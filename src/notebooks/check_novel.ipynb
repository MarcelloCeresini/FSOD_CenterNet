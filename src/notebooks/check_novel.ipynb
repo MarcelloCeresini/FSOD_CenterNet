{
 "cells": [
  {
   "cell_type": "code",
   "execution_count": 2,
   "metadata": {},
   "outputs": [
    {
     "name": "stdout",
     "output_type": "stream",
     "text": [
      "loading annotations into memory...\n",
      "Done (t=1.64s)\n",
      "creating index...\n",
      "index created!\n"
     ]
    }
   ],
   "source": [
    "from pycocotools.coco import COCO\n",
    "import json\n",
    "\n",
    "full = COCO('/home/volpepe/Desktop/FSOD_CenterNet/data/full_2017_bboxes.json')\n",
    "novel_classes = '/home/volpepe/Desktop/FSOD_CenterNet/data/novel_class_ids.json'\n",
    "with open(novel_classes, 'r') as f:\n",
    "    novel_classes = json.load(f)['novel_cat_ids']"
   ]
  },
  {
   "cell_type": "code",
   "execution_count": 20,
   "metadata": {},
   "outputs": [],
   "source": [
    "novel_images = set(['/home/volpepe/Desktop/FSOD_CenterNet/data/' + a['file_name'] for a in \n",
    " full.loadImgs([x['image_id'] \n",
    "    for x in full.loadAnns(full.getAnnIds(catIds=novel_classes))])])"
   ]
  },
  {
   "cell_type": "code",
   "execution_count": 21,
   "metadata": {},
   "outputs": [
    {
     "name": "stderr",
     "output_type": "stream",
     "text": [
      " 96%|█████████▋| 8996/9328 [06:00<00:10, 30.44it/s]"
     ]
    },
    {
     "name": "stdout",
     "output_type": "stream",
     "text": [
      "/home/volpepe/Desktop/FSOD_CenterNet/data/train_val_images/Aves/Buteogallus anthracinus/c17a704ec2eaf5a4605cf943b0eee0d0.jpg\n"
     ]
    },
    {
     "name": "stderr",
     "output_type": "stream",
     "text": [
      "100%|██████████| 9328/9328 [06:12<00:00, 25.05it/s]\n"
     ]
    }
   ],
   "source": [
    "from tqdm import tqdm\n",
    "from torchvision.io import read_image, ImageReadMode\n",
    "for img in tqdm(novel_images):\n",
    "    try:\n",
    "        image = read_image(img, mode=ImageReadMode.RGB)\n",
    "    except:\n",
    "        print(img)"
   ]
  }
 ],
 "metadata": {
  "kernelspec": {
   "display_name": "ml4cv",
   "language": "python",
   "name": "python3"
  },
  "language_info": {
   "codemirror_mode": {
    "name": "ipython",
    "version": 3
   },
   "file_extension": ".py",
   "mimetype": "text/x-python",
   "name": "python",
   "nbconvert_exporter": "python",
   "pygments_lexer": "ipython3",
   "version": "3.11.4"
  }
 },
 "nbformat": 4,
 "nbformat_minor": 2
}
