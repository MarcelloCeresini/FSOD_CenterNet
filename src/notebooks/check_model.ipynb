{
 "cells": [
  {
   "cell_type": "code",
   "execution_count": 4,
   "metadata": {},
   "outputs": [
    {
     "name": "stdout",
     "output_type": "stream",
     "text": [
      "loading annotations into memory...\n",
      "Done (t=0.01s)\n",
      "creating index...\n",
      "index created!\n",
      "loading annotations into memory...\n",
      "Done (t=0.00s)\n",
      "creating index...\n",
      "index created!\n",
      "loading annotations into memory...\n",
      "Done (t=0.00s)\n",
      "creating index...\n",
      "index created!\n",
      "loading annotations into memory...\n",
      "Done (t=3.36s)\n",
      "creating index...\n",
      "index created!\n",
      "Skipping instantating novel head\n"
     ]
    }
   ],
   "source": [
    "import argparse\n",
    "import os\n",
    "import pickle\n",
    "\n",
    "import torch as T\n",
    "import yaml\n",
    "from torch.optim import Adam\n",
    "from tqdm import tqdm\n",
    "\n",
    "import sys\n",
    "\n",
    "sys.path.append('/Users/marcelloceresini/github/FSOD_CenterNet/src')\n",
    "from data_pipeline import DatasetsGenerator\n",
    "from model import Model\n",
    "\n",
    "\n",
    "def load_settings(settings_path: str):\n",
    "    with open(settings_path, 'r') as f:\n",
    "        return yaml.safe_load(f)\n",
    "    \n",
    "settings = '../settings/model_testing_debug_check.yaml'\n",
    "    \n",
    "config = load_settings(settings)\n",
    "\n",
    "if os.path.exists(config['training']['save_base_weights_dir']) \\\n",
    "                and config[\"training\"][\"train_base\"] \\\n",
    "                and config[\"training\"][\"no_overwrite\"]:\n",
    "    raise ValueError(\"Cannot overwrite weights\")\n",
    "\n",
    "os.makedirs(config['training']['save_training_info_dir'], exist_ok=True)\n",
    "\n",
    "debug_mode = config['debug']['debug_mode_active']\n",
    "device = config['device']\n",
    "\n",
    "K = config['data']['K']\n",
    "val_K = config['data']['val_K']\n",
    "test_K = config['data']['test_K']\n",
    "n_repeats_novel_train = config['training']['repeat_novel_training']\n",
    "\n",
    "if isinstance(K, int): K = [K]\n",
    "if isinstance(val_K, int): val_K = [val_K]\n",
    "if isinstance(test_K, int): test_K = [test_K]\n",
    "\n",
    "# Dataset generator. Only one of these has to be instantiated. It always returns\n",
    "dataset_gen = DatasetsGenerator(config)\n",
    "\n",
    "if config['training']['train_base']:\n",
    "\n",
    "    # Instantiate the model (only the base part)\n",
    "    model = Model(config, n_base_classes=len(dataset_gen.train_base.cats))\n",
    "    model = model.to(device)\n",
    "\n",
    "    # Use the dataset generator to generate the base set\n",
    "    dataset_base_train, dataset_base_val, dataset_base_test = dataset_gen.get_base_sets_dataloaders(\n",
    "        config['training']['batch_size'], config['training']['num_workers'],\n",
    "        config['training']['pin_memory'], config['training']['drop_last'], \n",
    "        shuffle=True\n",
    "    )\n",
    "    "
   ]
  },
  {
   "cell_type": "code",
   "execution_count": 5,
   "metadata": {},
   "outputs": [
    {
     "data": {
      "text/plain": [
       "<All keys matched successfully>"
      ]
     },
     "execution_count": 5,
     "metadata": {},
     "output_type": "execute_result"
    }
   ],
   "source": [
    "model.load_state_dict(T.load('../../data/weights/from_server/best_model_fix_stoic.pt', map_location=\"cpu\"))"
   ]
  },
  {
   "cell_type": "code",
   "execution_count": 6,
   "metadata": {},
   "outputs": [
    {
     "data": {
      "text/plain": [
       "13806677"
      ]
     },
     "execution_count": 6,
     "metadata": {},
     "output_type": "execute_result"
    }
   ],
   "source": [
    "import numpy as np\n",
    "params = sum([np.prod(p.size()) for p in model.parameters()])\n",
    "params"
   ]
  },
  {
   "cell_type": "code",
   "execution_count": 7,
   "metadata": {},
   "outputs": [
    {
     "data": {
      "text/plain": [
       "11176512"
      ]
     },
     "execution_count": 7,
     "metadata": {},
     "output_type": "execute_result"
    }
   ],
   "source": [
    "sum([np.prod(p.size()) for p in model.encoder.parameters()])"
   ]
  },
  {
   "cell_type": "code",
   "execution_count": 8,
   "metadata": {},
   "outputs": [],
   "source": [
    "for i, (input_image, labels, n_detections, _) in enumerate(dataset_base_train):\n",
    "    out = model(input_image.to(device))\n",
    "    break"
   ]
  },
  {
   "cell_type": "code",
   "execution_count": 9,
   "metadata": {},
   "outputs": [],
   "source": [
    "out_reg, out_head_base, _ = out\n",
    "regressor_label, heatmap_base, _ = labels"
   ]
  },
  {
   "cell_type": "code",
   "execution_count": 10,
   "metadata": {},
   "outputs": [],
   "source": [
    "# regressor_label.shape"
   ]
  },
  {
   "cell_type": "code",
   "execution_count": 11,
   "metadata": {},
   "outputs": [],
   "source": [
    "# out_reg[T.where(regressor_label != 0)].shape\n",
    "# out_reg[T.where(regressor_label != 0)].reshape(-1, 4)[:10]"
   ]
  },
  {
   "cell_type": "code",
   "execution_count": 12,
   "metadata": {},
   "outputs": [
    {
     "data": {
      "text/plain": [
       "tensor([[ 6.3915, 20.9214,  9.0986, 21.9729],\n",
       "        [ 0.4394,  0.7470,  0.5082,  0.8544]])"
      ]
     },
     "execution_count": 12,
     "metadata": {},
     "output_type": "execute_result"
    }
   ],
   "source": [
    "regressor_label[T.where(regressor_label != 0)].reshape(-1, 4)[:10]"
   ]
  },
  {
   "cell_type": "code",
   "execution_count": 13,
   "metadata": {},
   "outputs": [
    {
     "data": {
      "text/plain": [
       "tensor([0.0030, 0.1295], grad_fn=<IndexBackward0>)"
      ]
     },
     "execution_count": 13,
     "metadata": {},
     "output_type": "execute_result"
    }
   ],
   "source": [
    "out_head_base[T.where(heatmap_base==1)]"
   ]
  },
  {
   "cell_type": "code",
   "execution_count": 14,
   "metadata": {},
   "outputs": [
    {
     "data": {
      "text/plain": [
       "(tensor(0.2934, grad_fn=<MaxBackward1>),\n",
       " tensor(0.0003, grad_fn=<MinBackward1>),\n",
       " tensor(0.0027, grad_fn=<MeanBackward0>))"
      ]
     },
     "execution_count": 14,
     "metadata": {},
     "output_type": "execute_result"
    }
   ],
   "source": [
    "out_head_base.max(), out_head_base.min(), out_head_base.mean()"
   ]
  },
  {
   "cell_type": "code",
   "execution_count": 15,
   "metadata": {},
   "outputs": [
    {
     "data": {
      "text/plain": [
       "(tensor(1.), tensor(0.), tensor(0.0008))"
      ]
     },
     "execution_count": 15,
     "metadata": {},
     "output_type": "execute_result"
    }
   ],
   "source": [
    "heatmap_base.max(), heatmap_base.min(), heatmap_base.mean()"
   ]
  },
  {
   "cell_type": "code",
   "execution_count": 16,
   "metadata": {},
   "outputs": [],
   "source": [
    "def heatmap_loss(pred_heatmap, gt_heatmap, num_keypoints, config):\n",
    "    gt_heatmap = gt_heatmap.to(pred_heatmap.device)\n",
    "    num_keypoints = num_keypoints.to(pred_heatmap.device)\n",
    "\n",
    "    loss = T.where(\n",
    "        gt_heatmap == 1,\n",
    "        (1 - pred_heatmap) ** config['model']['alpha_loss'] * T.log(pred_heatmap),\n",
    "        (1 - gt_heatmap) ** config['model']['beta_loss'] * \\\n",
    "            (pred_heatmap) ** config['model']['alpha_loss'] * T.log(1 - pred_heatmap),\n",
    "    ).reshape(pred_heatmap.shape[0], -1).sum(dim=-1)\n",
    "\n",
    "    result = T.where(\n",
    "        num_keypoints != 0,\n",
    "        input = loss / num_keypoints,\n",
    "        other = 0\n",
    "    )\n",
    "\n",
    "    return -result"
   ]
  },
  {
   "cell_type": "code",
   "execution_count": 17,
   "metadata": {},
   "outputs": [
    {
     "data": {
      "text/plain": [
       "(tensor(-0.6124, grad_fn=<MaxBackward1>),\n",
       " tensor(-6.0811, grad_fn=<MeanBackward0>))"
      ]
     },
     "execution_count": 17,
     "metadata": {},
     "output_type": "execute_result"
    }
   ],
   "source": [
    "pred_heatmap = out_head_base\n",
    "gt_heatmap = heatmap_base\n",
    "num_keypoints = n_detections\n",
    "\n",
    "gt_heatmap = gt_heatmap.to(pred_heatmap.device)\n",
    "num_keypoints = num_keypoints.to(pred_heatmap.device)\n",
    "\n",
    "a1 = (1 - pred_heatmap) ** config['model']['alpha_loss'] * T.log(pred_heatmap)\n",
    "a2 = (1 - gt_heatmap) ** config['model']['beta_loss'] * (pred_heatmap) ** config['model']['alpha_loss'] * T.log(1 - pred_heatmap)\n",
    "\n",
    "a1.max(), a1.mean()"
   ]
  },
  {
   "cell_type": "code",
   "execution_count": 18,
   "metadata": {},
   "outputs": [
    {
     "data": {
      "text/plain": [
       "torch.Size([1, 240, 32, 32])"
      ]
     },
     "execution_count": 18,
     "metadata": {},
     "output_type": "execute_result"
    }
   ],
   "source": [
    "a1.shape"
   ]
  },
  {
   "cell_type": "code",
   "execution_count": 19,
   "metadata": {},
   "outputs": [
    {
     "data": {
      "text/plain": [
       "(tensor(-1.7145e-06, grad_fn=<MeanBackward0>),\n",
       " tensor(-0.0299, grad_fn=<MinBackward1>))"
      ]
     },
     "execution_count": 19,
     "metadata": {},
     "output_type": "execute_result"
    }
   ],
   "source": [
    "a2.mean(), a2.min()"
   ]
  },
  {
   "cell_type": "code",
   "execution_count": 20,
   "metadata": {},
   "outputs": [
    {
     "data": {
      "text/plain": [
       "tensor([3.8673], grad_fn=<NegBackward0>)"
      ]
     },
     "execution_count": 20,
     "metadata": {},
     "output_type": "execute_result"
    }
   ],
   "source": [
    "heatmap_loss(out_head_base, heatmap_base, n_detections, config)"
   ]
  },
  {
   "cell_type": "code",
   "execution_count": 21,
   "metadata": {},
   "outputs": [
    {
     "data": {
      "text/plain": [
       "-0.00010261713"
      ]
     },
     "execution_count": 21,
     "metadata": {},
     "output_type": "execute_result"
    }
   ],
   "source": [
    "(32*32-1)*-1.0031e-07"
   ]
  },
  {
   "cell_type": "code",
   "execution_count": 22,
   "metadata": {},
   "outputs": [],
   "source": [
    "import torch.nn.functional as NNF\n",
    "import torch as T\n",
    "from torchmetrics.detection import MeanAveragePrecision\n",
    "\n",
    "@T.no_grad()\n",
    "def get_heatmap_maxima_idxs(complete_heatmaps):\n",
    "    pooled_heatmaps = NNF.max_pool2d(complete_heatmaps,\n",
    "                                    3,\n",
    "                                    stride=1,\n",
    "                                    padding=1)\n",
    "    return (complete_heatmaps == pooled_heatmaps)\n",
    "\n",
    "def landmarks_from_idxs(regressor_pred: T.tensor,\n",
    "                        complete_heatmaps: T.tensor,\n",
    "                        idxs_tensor_mask: T.tensor):\n",
    "    n_classes, output_width, output_height = idxs_tensor_mask.shape\n",
    "\n",
    "    num_detections = T.sum(idxs_tensor_mask).to('cpu')\n",
    "    num_detections = min(100, num_detections) # 10 MAXIMUM DETECTIONS FOR VISUALIZATION\n",
    "    \n",
    "    landmarks_pred = {\n",
    "        \"boxes\": T.zeros(num_detections,4),\n",
    "        \"labels\": T.zeros(num_detections).to(T.int32),\n",
    "        \"scores\": T.zeros(num_detections)\n",
    "    }\n",
    "\n",
    "    # Flattens it so we can use topk\n",
    "    confidence_scores = T.masked_select(complete_heatmaps, idxs_tensor_mask)\n",
    "\n",
    "    # The i-th element in top_k_scores has the i-th highest confidence score in the image, \n",
    "    # but its index refers to its position in \"confidence_scores\" (which is a flattened tensor\n",
    "    # tthat has as many elements as idxs_tensor_mask's true values, or peaks).\n",
    "    # Instead, we will need a n_classes*output_width*output_height tensor to get indices\n",
    "    top_k_scores = T.topk(confidence_scores, num_detections)\n",
    "    \n",
    "    # This retrieves all of the (flattened) indices (of the output image) where the classification has a peak\n",
    "    flattened_idxs = T.nonzero(T.flatten(idxs_tensor_mask)).reshape(-1)\n",
    "\n",
    "    # this retrieves only the top \"num_detections\" of them (but still, flattened)\n",
    "    flattened_top_k_idxs = flattened_idxs[top_k_scores.indices]\n",
    "\n",
    "    base_mask = T.zeros(n_classes*output_width*output_height).to(device='cpu')\n",
    "    # Populates the mask with 1s for topk indices\n",
    "    base_mask[flattened_top_k_idxs] += 1\n",
    "    mask = base_mask.to(dtype=T.bool)\n",
    "\n",
    "    top_k_mask = T.unflatten(mask, dim=0, sizes=(n_classes, output_width, output_height))\n",
    "    top_k_idxs = T.nonzero(top_k_mask)\n",
    "\n",
    "    print(top_k_idxs)\n",
    "\n",
    "    regressor_pred_repeated = regressor_pred.repeat(n_classes,1,1,1)\n",
    "\n",
    "    size_x = T.masked_select(regressor_pred_repeated[:,0,:,:],\n",
    "                                top_k_mask)\n",
    "    size_y = T.masked_select(regressor_pred_repeated[:,1,:,:],\n",
    "                                top_k_mask)\n",
    "    off_x = T.masked_select(regressor_pred_repeated[:,2,:,:],\n",
    "                                top_k_mask)\n",
    "    off_y = T.masked_select(regressor_pred_repeated[:,3,:,:],\n",
    "                                top_k_mask)\n",
    "\n",
    "    category = top_k_idxs[:,0]\n",
    "    center_idx_y = top_k_idxs[:,1]\n",
    "    center_idx_x = top_k_idxs[:,2]\n",
    "\n",
    "    center_coord_x = center_idx_x+off_x\n",
    "    center_coord_y = center_idx_y+off_y\n",
    "\n",
    "    for i, (c, cx, cy, sx, sy, score) in \\\n",
    "        enumerate(zip(category, center_coord_x, center_coord_y, size_x, size_y, confidence_scores)):\n",
    "\n",
    "            landmarks_pred[\"boxes\"][i,0] = cx\n",
    "            landmarks_pred[\"boxes\"][i,1] = cy\n",
    "            landmarks_pred[\"boxes\"][i,2] = sx\n",
    "            landmarks_pred[\"boxes\"][i,3] = sy\n",
    "            landmarks_pred[\"labels\"][i] = c\n",
    "            landmarks_pred[\"scores\"][i] = score\n",
    "\n",
    "    return landmarks_pred"
   ]
  },
  {
   "cell_type": "code",
   "execution_count": 23,
   "metadata": {},
   "outputs": [
    {
     "name": "stdout",
     "output_type": "stream",
     "text": [
      "tensor([[  0,  12,  13],\n",
      "        [  1,  12,  13],\n",
      "        [  2,  12,  13],\n",
      "        [  7,  12,  13],\n",
      "        [ 13,  12,  13],\n",
      "        [ 16,  12,  13],\n",
      "        [ 17,  12,  13],\n",
      "        [ 19,  12,  13],\n",
      "        [ 23,  12,  13],\n",
      "        [ 26,  12,  13],\n",
      "        [ 31,  12,  13],\n",
      "        [ 36,  12,  13],\n",
      "        [ 38,  13,  13],\n",
      "        [ 40,  12,  13],\n",
      "        [ 40,  14,  23],\n",
      "        [ 43,  12,  13],\n",
      "        [ 49,  12,  13],\n",
      "        [ 51,  12,  13],\n",
      "        [ 55,  12,  13],\n",
      "        [ 56,  13,  13],\n",
      "        [ 57,  13,  13],\n",
      "        [ 58,  12,  13],\n",
      "        [ 60,  12,  13],\n",
      "        [ 62,  12,  13],\n",
      "        [ 70,  12,  13],\n",
      "        [ 71,  13,  13],\n",
      "        [ 72,  12,  13],\n",
      "        [ 73,  12,  13],\n",
      "        [ 75,  12,  13],\n",
      "        [ 77,  12,  13],\n",
      "        [ 77,  14,  23],\n",
      "        [ 82,  12,  13],\n",
      "        [ 83,  12,  13],\n",
      "        [ 85,  12,  13],\n",
      "        [ 86,  12,  13],\n",
      "        [ 87,  12,  13],\n",
      "        [ 87,  14,  23],\n",
      "        [ 91,  12,  13],\n",
      "        [ 91,  14,  23],\n",
      "        [ 94,  12,  13],\n",
      "        [ 95,  12,  13],\n",
      "        [ 96,  12,  13],\n",
      "        [100,  12,  13],\n",
      "        [103,  12,  13],\n",
      "        [108,  12,  13],\n",
      "        [115,  12,  13],\n",
      "        [115,  14,  23],\n",
      "        [118,  12,  13],\n",
      "        [123,  12,  13],\n",
      "        [127,  12,  13],\n",
      "        [128,  12,  13],\n",
      "        [132,  12,  13],\n",
      "        [133,  12,  13],\n",
      "        [136,  12,  13],\n",
      "        [139,  13,  13],\n",
      "        [142,  13,  13],\n",
      "        [144,  13,  13],\n",
      "        [144,  14,  23],\n",
      "        [145,  12,  13],\n",
      "        [146,  12,  13],\n",
      "        [148,  12,  13],\n",
      "        [149,  12,  13],\n",
      "        [150,  12,  13],\n",
      "        [154,  13,  13],\n",
      "        [155,  12,  13],\n",
      "        [158,  12,  13],\n",
      "        [159,  12,  13],\n",
      "        [162,  12,  13],\n",
      "        [163,  12,  13],\n",
      "        [165,  12,  13],\n",
      "        [166,  12,  13],\n",
      "        [166,  14,  23],\n",
      "        [167,  12,  13],\n",
      "        [167,  14,  23],\n",
      "        [168,  12,  13],\n",
      "        [168,  14,  23],\n",
      "        [170,  12,  13],\n",
      "        [171,  12,  13],\n",
      "        [173,  12,  13],\n",
      "        [177,  12,  13],\n",
      "        [178,  12,  13],\n",
      "        [179,  12,  13],\n",
      "        [180,  12,  13],\n",
      "        [185,  12,  13],\n",
      "        [185,  14,  23],\n",
      "        [186,  12,  13],\n",
      "        [187,  12,  13],\n",
      "        [188,  12,  13],\n",
      "        [189,  12,  13],\n",
      "        [192,  12,  13],\n",
      "        [196,  12,  13],\n",
      "        [213,  12,  13],\n",
      "        [215,  12,  13],\n",
      "        [217,  12,  13],\n",
      "        [217,  14,  23],\n",
      "        [218,  12,  13],\n",
      "        [220,  12,  13],\n",
      "        [225,  12,  13],\n",
      "        [233,  12,  13],\n",
      "        [233,  14,  23]])\n"
     ]
    }
   ],
   "source": [
    "for counter, (image_batch, label_batch, n_landmarks_batch, padded_landmarks) in enumerate(dataset_base_train):\n",
    "\n",
    "    # both image and landmarks will be resized to model_input_size\n",
    "    reg_pred_batch, heat_base_pred_batch, heat_novel_pred_batch = model(image_batch.to('cpu'))\n",
    "\n",
    "    list_landmarks_pred = []\n",
    "    list_landmarks_gt = []\n",
    "    \n",
    "    for i, (reg_pred, heat_base_pred, n_landmarks) in \\\n",
    "        enumerate(zip(reg_pred_batch, heat_base_pred_batch, n_landmarks_batch)):\n",
    "        complete_heatmaps = heat_base_pred\n",
    "\n",
    "        idxs_tensor = get_heatmap_maxima_idxs(complete_heatmaps)\n",
    "\n",
    "        landmarks_pred = landmarks_from_idxs(\n",
    "            reg_pred,\n",
    "            complete_heatmaps,\n",
    "            idxs_tensor\n",
    "        )\n",
    "\n",
    "        landmarks_gt = {\n",
    "            \"boxes\": padded_landmarks[\"boxes\"][i,:n_landmarks,:],\n",
    "            \"labels\": padded_landmarks[\"labels\"][i,:n_landmarks]\n",
    "        }\n",
    "\n",
    "        list_landmarks_pred.append(landmarks_pred)\n",
    "        list_landmarks_gt.append(landmarks_gt)\n",
    "\n",
    "    break"
   ]
  },
  {
   "cell_type": "code",
   "execution_count": 24,
   "metadata": {},
   "outputs": [
    {
     "data": {
      "text/plain": [
       "range(0, 100)"
      ]
     },
     "execution_count": 24,
     "metadata": {},
     "output_type": "execute_result"
    }
   ],
   "source": [
    "range(len(list_landmarks_pred[0][\"labels\"]))"
   ]
  },
  {
   "cell_type": "code",
   "execution_count": 25,
   "metadata": {},
   "outputs": [],
   "source": [
    "def box_and_label_from_landmarks(list_landmarks_unbacthed, max_img_size):\n",
    "    list_boxes = []\n",
    "    list_labels = []\n",
    "\n",
    "    for i in range(len(list_landmarks_unbacthed[\"labels\"])):\n",
    "        list_boxes.append(T.tensor([\n",
    "            max(0, 4*(list_landmarks_unbacthed[\"boxes\"][i][0]-list_landmarks_unbacthed[\"boxes\"][i][2])),\n",
    "            max(0, 4*(list_landmarks_unbacthed[\"boxes\"][i][1]-list_landmarks_unbacthed[\"boxes\"][i][3])),\n",
    "            min(max_img_size-1, 4*(list_landmarks_unbacthed[\"boxes\"][i][0]+list_landmarks_unbacthed[\"boxes\"][i][2])),\n",
    "            min(max_img_size-1, 4*(list_landmarks_unbacthed[\"boxes\"][i][1]+list_landmarks_unbacthed[\"boxes\"][i][3])),\n",
    "                           ]))\n",
    "        list_labels.append(str(list_landmarks_unbacthed[\"labels\"][i].item()))\n",
    "\n",
    "    if len(list_boxes)>1:\n",
    "        list_boxes = T.stack(list_boxes)\n",
    "\n",
    "    else:\n",
    "        list_boxes = list_boxes[0].reshape(1,4)\n",
    "    \n",
    "\n",
    "    return list_boxes, list_labels"
   ]
  },
  {
   "cell_type": "code",
   "execution_count": 26,
   "metadata": {},
   "outputs": [],
   "source": [
    "import matplotlib.pyplot as plt\n",
    "from torchvision.transforms import functional as F\n",
    "from torchvision.utils import draw_bounding_boxes\n",
    "from torchvision.ops import box_convert\n",
    "\n",
    "def showgrid(img, heat_gt, heat_pred, land_gt, land_pred):\n",
    "\n",
    "    batch_size = img.shape[0]\n",
    "    print()\n",
    "    f, axarr = plt.subplots(5+10, batch_size, constrained_layout=True, figsize=(13,17))\n",
    "\n",
    "    # (xmin, ymin, xmax, ymax)\n",
    "\n",
    "    for b in range(batch_size):\n",
    "\n",
    "        print(T.max(heat_pred[b]))\n",
    "        heat_pred[b][:,0,0] = (T.ones_like(heat_pred[b][:,0,0])*T.max(heat_pred[b]))\n",
    "\n",
    "        # boxes, labels = box_and_label_from_landmarks(land_gt[b], img.shape[-1])\n",
    "        # print(boxes)\n",
    "        img_to_plot = draw_bounding_boxes(\n",
    "            (img[b]*256).to(T.uint8), \n",
    "            boxes=box_convert(land_gt[b][\"boxes\"], in_fmt=\"cxcywh\", out_fmt=\"xyxy\")\n",
    "        )\n",
    "        axarr[0,b].imshow(F.to_pil_image(img_to_plot))\n",
    "\n",
    "        # boxes, labels = box_and_label_from_landmarks(land_pred[b], img.shape[-1])\n",
    "\n",
    "        boxes = land_pred[b][\"boxes\"]\n",
    "\n",
    "        img_to_plot = draw_bounding_boxes(\n",
    "            (img[b]*256).to(T.uint8), \n",
    "            boxes=box_convert(boxes, \n",
    "                              in_fmt=\"cxcywh\", \n",
    "                              out_fmt=\"xyxy\")\n",
    "        ) # I ADDED A *4 BUT I'M NOT SURE IT IS NEEDED\n",
    "        axarr[1,b].imshow(F.to_pil_image(img_to_plot))\n",
    "        \n",
    "        axarr[2,b].imshow(F.to_pil_image(T.max(heat_gt[1][b], dim=0).values))\n",
    "        axarr[3,b].imshow(F.to_pil_image(T.max(heat_pred[b], dim=0).values))\n",
    "\n",
    "        tmp_label = land_gt[b][\"labels\"][0]\n",
    "        axarr[4,b].imshow(F.to_pil_image(heat_pred[b][tmp_label]))\n",
    "\n",
    "\n",
    "        n_label_gt = 0\n",
    "        \n",
    "        c_right = 0\n",
    "        mean_score_right = 0\n",
    "        c_wrong = 0\n",
    "        mean_score_wrong = 0\n",
    "        \n",
    "        for label_gt in land_gt[b][\"labels\"]:\n",
    "            n_label_gt+=1\n",
    "            for label_pred, score in zip(land_pred[b][\"labels\"], land_pred[b][\"scores\"]):\n",
    "                if label_gt == label_pred:\n",
    "                    c_right+=1\n",
    "                    mean_score_right += score.item()\n",
    "                else:\n",
    "                    c_wrong+=1\n",
    "                    mean_score_wrong += score.item()\n",
    "\n",
    "        c_right /= n_label_gt\n",
    "        mean_score_right /= n_label_gt\n",
    "        if c_right != 0:\n",
    "            mean_score_right /= c_right\n",
    "            \n",
    "        c_wrong /= n_label_gt\n",
    "        mean_score_wrong /= n_label_gt\n",
    "        if c_wrong != 0:\n",
    "            mean_score_wrong /= c_wrong\n",
    "        print(\"Image \", b+1, \" - Right \", c_right, \" - Mean Score \", mean_score_right, \" - Wrong \", c_wrong, \" - Mean Score \", mean_score_wrong)\n",
    "\n",
    "        # for i, rand_label in enumerate(T.randint(240, (5,1))):\n",
    "        #     axarr[5+i,b].imshow(F.to_pil_image(heat_gt[1][b][rand_label]))\n",
    "\n",
    "    \n",
    "        for i, rand_label in enumerate(T.randint(240, (10,1))):\n",
    "            axarr[5+i,b].imshow(F.to_pil_image(heat_pred[b][rand_label]))\n",
    "\n",
    "    \n",
    "    for b in axarr.flat:\n",
    "        plt.axis('on')\n",
    "        b.set_xticks([])\n",
    "        b.set_yticks([])\n",
    "\n",
    "    print(\"Before plot\")\n",
    "    plt.show()\n",
    "    print(\"After plot\")\n"
   ]
  },
  {
   "cell_type": "code",
   "execution_count": 27,
   "metadata": {},
   "outputs": [
    {
     "name": "stdout",
     "output_type": "stream",
     "text": [
      "\n",
      "tensor(0.1527)\n"
     ]
    },
    {
     "ename": "IndexError",
     "evalue": "too many indices for array: array is 1-dimensional, but 2 were indexed",
     "output_type": "error",
     "traceback": [
      "\u001b[0;31m---------------------------------------------------------------------------\u001b[0m",
      "\u001b[0;31mIndexError\u001b[0m                                Traceback (most recent call last)",
      "Cell \u001b[0;32mIn[27], line 3\u001b[0m\n\u001b[1;32m      1\u001b[0m \u001b[39mimport\u001b[39;00m \u001b[39mcopy\u001b[39;00m\n\u001b[1;32m      2\u001b[0m \u001b[39mwith\u001b[39;00m T\u001b[39m.\u001b[39mno_grad():\n\u001b[0;32m----> 3\u001b[0m     showgrid(image_batch, copy\u001b[39m.\u001b[39;49mcopy(label_batch), copy\u001b[39m.\u001b[39;49mcopy(heat_base_pred_batch), list_landmarks_gt, list_landmarks_pred)\n",
      "Cell \u001b[0;32mIn[26], line 25\u001b[0m, in \u001b[0;36mshowgrid\u001b[0;34m(img, heat_gt, heat_pred, land_gt, land_pred)\u001b[0m\n\u001b[1;32m     19\u001b[0m \u001b[39m# boxes, labels = box_and_label_from_landmarks(land_gt[b], img.shape[-1])\u001b[39;00m\n\u001b[1;32m     20\u001b[0m \u001b[39m# print(boxes)\u001b[39;00m\n\u001b[1;32m     21\u001b[0m img_to_plot \u001b[39m=\u001b[39m draw_bounding_boxes(\n\u001b[1;32m     22\u001b[0m     (img[b]\u001b[39m*\u001b[39m\u001b[39m256\u001b[39m)\u001b[39m.\u001b[39mto(T\u001b[39m.\u001b[39muint8), \n\u001b[1;32m     23\u001b[0m     boxes\u001b[39m=\u001b[39mbox_convert(land_gt[b][\u001b[39m\"\u001b[39m\u001b[39mboxes\u001b[39m\u001b[39m\"\u001b[39m], in_fmt\u001b[39m=\u001b[39m\u001b[39m\"\u001b[39m\u001b[39mcxcywh\u001b[39m\u001b[39m\"\u001b[39m, out_fmt\u001b[39m=\u001b[39m\u001b[39m\"\u001b[39m\u001b[39mxyxy\u001b[39m\u001b[39m\"\u001b[39m)\n\u001b[1;32m     24\u001b[0m )\n\u001b[0;32m---> 25\u001b[0m axarr[\u001b[39m0\u001b[39;49m,b]\u001b[39m.\u001b[39mimshow(F\u001b[39m.\u001b[39mto_pil_image(img_to_plot))\n\u001b[1;32m     27\u001b[0m \u001b[39m# boxes, labels = box_and_label_from_landmarks(land_pred[b], img.shape[-1])\u001b[39;00m\n\u001b[1;32m     29\u001b[0m land_pred[b][\u001b[39m\"\u001b[39m\u001b[39mboxes\u001b[39m\u001b[39m\"\u001b[39m][:,:\u001b[39m2\u001b[39m] \u001b[39m=\u001b[39m land_pred[b][\u001b[39m\"\u001b[39m\u001b[39mboxes\u001b[39m\u001b[39m\"\u001b[39m][:,:\u001b[39m2\u001b[39m] \u001b[39m*\u001b[39m \u001b[39m4\u001b[39m\n",
      "\u001b[0;31mIndexError\u001b[0m: too many indices for array: array is 1-dimensional, but 2 were indexed"
     ]
    },
    {
     "data": {
      "image/png": "[encoded data removed]",
      "text/plain": [
       "<Figure size 1300x1700 with 15 Axes>"
      ]
     },
     "metadata": {},
     "output_type": "display_data"
    }
   ],
   "source": [
    "import copy\n",
    "with T.no_grad():\n",
    "    showgrid(image_batch, copy.copy(label_batch), copy.copy(heat_base_pred_batch), list_landmarks_gt, list_landmarks_pred)"
   ]
  },
  {
   "cell_type": "code",
   "execution_count": null,
   "metadata": {},
   "outputs": [],
   "source": []
  },
  {
   "cell_type": "code",
   "execution_count": null,
   "metadata": {},
   "outputs": [],
   "source": []
  }
 ],
 "metadata": {
  "kernelspec": {
   "display_name": "ml4cv",
   "language": "python",
   "name": "python3"
  },
  "language_info": {
   "codemirror_mode": {
    "name": "ipython",
    "version": 3
   },
   "file_extension": ".py",
   "mimetype": "text/x-python",
   "name": "python",
   "nbconvert_exporter": "python",
   "pygments_lexer": "ipython3",
   "version": "3.11.4"
  }
 },
 "nbformat": 4,
 "nbformat_minor": 2
}
