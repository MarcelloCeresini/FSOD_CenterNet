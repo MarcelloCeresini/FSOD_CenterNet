{
 "cells": [
  {
   "cell_type": "code",
   "execution_count": 1,
   "metadata": {},
   "outputs": [],
   "source": [
    "import json\n",
    "import os"
   ]
  },
  {
   "cell_type": "code",
   "execution_count": 2,
   "metadata": {},
   "outputs": [],
   "source": [
    "with open('../../data/base_dset/small_base_train.json', 'r') as f:\n",
    "    train_set = json.load(f)\n",
    "\n",
    "with open('../../data/base_dset/small_base_val.json', 'r') as f:\n",
    "    val_set = json.load(f)\n",
    "\n",
    "with open('../../data/base_dset/small_base_test.json', 'r') as f:\n",
    "    test_set = json.load(f)"
   ]
  },
  {
   "cell_type": "code",
   "execution_count": 3,
   "metadata": {},
   "outputs": [],
   "source": [
    "small_filenames = [fname['file_name'] for fname in train_set['images']] + \\\n",
    "                  [fname['file_name'] for fname in val_set['images']] + \\\n",
    "                  [fname['file_name'] for fname in test_set['images']]"
   ]
  },
  {
   "cell_type": "code",
   "execution_count": 4,
   "metadata": {},
   "outputs": [],
   "source": [
    "small_filenames = set(small_filenames)"
   ]
  },
  {
   "cell_type": "code",
   "execution_count": 5,
   "metadata": {},
   "outputs": [
    {
     "data": {
      "text/plain": [
       "1752"
      ]
     },
     "execution_count": 5,
     "metadata": {},
     "output_type": "execute_result"
    }
   ],
   "source": [
    "len(small_filenames)"
   ]
  },
  {
   "cell_type": "code",
   "execution_count": 6,
   "metadata": {},
   "outputs": [
    {
     "name": "stderr",
     "output_type": "stream",
     "text": [
      "  0%|          | 0/1752 [00:00<?, ?it/s]"
     ]
    },
    {
     "name": "stderr",
     "output_type": "stream",
     "text": [
      "100%|██████████| 1752/1752 [08:45<00:00,  3.33it/s] \n"
     ]
    }
   ],
   "source": [
    "from zipfile import ZipFile\n",
    "from tqdm import tqdm\n",
    "\n",
    "with ZipFile('../../data/small_set.zip', 'w') as zipObj:\n",
    "    for filename in tqdm(small_filenames):\n",
    "        zipObj.write('../../data/' + filename, filename)"
   ]
  }
 ],
 "metadata": {
  "kernelspec": {
   "display_name": "ml4cv",
   "language": "python",
   "name": "python3"
  },
  "language_info": {
   "codemirror_mode": {
    "name": "ipython",
    "version": 3
   },
   "file_extension": ".py",
   "mimetype": "text/x-python",
   "name": "python",
   "nbconvert_exporter": "python",
   "pygments_lexer": "ipython3",
   "version": "3.11.4"
  },
  "orig_nbformat": 4
 },
 "nbformat": 4,
 "nbformat_minor": 2
}
