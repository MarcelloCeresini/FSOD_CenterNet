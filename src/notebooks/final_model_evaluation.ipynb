{
 "cells": [
  {
   "cell_type": "code",
   "execution_count": 1,
   "metadata": {},
   "outputs": [
    {
     "name": "stdout",
     "output_type": "stream",
     "text": [
      "loading annotations into memory...\n",
      "Done (t=0.01s)\n",
      "creating index...\n",
      "index created!\n",
      "loading annotations into memory...\n",
      "Done (t=0.00s)\n",
      "creating index...\n",
      "index created!\n",
      "loading annotations into memory...\n",
      "Done (t=0.00s)\n",
      "creating index...\n",
      "index created!\n",
      "loading annotations into memory...\n",
      "Done (t=2.05s)\n",
      "creating index...\n",
      "index created!\n",
      "Skipping instantating novel head\n"
     ]
    },
    {
     "ename": "RuntimeError",
     "evalue": "Error(s) in loading state_dict for Model:\n\tMissing key(s) in state_dict: \"head_regressor.conv3.weight\", \"head_regressor.conv3.bias\", \"head_regressor.conv4.weight\", \"head_regressor.conv4.bias\", \"head_base_heatmap.conv2.weight\", \"head_base_heatmap.conv2.bias\", \"head_base_heatmap.conv3.weight\", \"head_base_heatmap.conv3.bias\". \n\tsize mismatch for head_regressor.conv2.weight: copying a param with shape torch.Size([4, 64, 1, 1]) from checkpoint, the shape in current model is torch.Size([64, 64, 3, 3]).\n\tsize mismatch for head_regressor.conv2.bias: copying a param with shape torch.Size([4]) from checkpoint, the shape in current model is torch.Size([64]).",
     "output_type": "error",
     "traceback": [
      "\u001b[0;31m---------------------------------------------------------------------------\u001b[0m",
      "\u001b[0;31mRuntimeError\u001b[0m                              Traceback (most recent call last)",
      "Cell \u001b[0;32mIn[1], line 39\u001b[0m\n\u001b[1;32m     36\u001b[0m model \u001b[39m=\u001b[39m Model(config, n_base_classes\u001b[39m=\u001b[39m\u001b[39mlen\u001b[39m(dataset_gen\u001b[39m.\u001b[39mtrain_base\u001b[39m.\u001b[39mcats))\n\u001b[1;32m     38\u001b[0m model \u001b[39m=\u001b[39m model\u001b[39m.\u001b[39mto(device)\n\u001b[0;32m---> 39\u001b[0m model\u001b[39m.\u001b[39;49mload_state_dict(T\u001b[39m.\u001b[39;49mload(\u001b[39m'\u001b[39;49m\u001b[39m../../data/weights/from_server/best_model_fix_stoic.pt\u001b[39;49m\u001b[39m'\u001b[39;49m, map_location\u001b[39m=\u001b[39;49m\u001b[39m\"\u001b[39;49m\u001b[39mcpu\u001b[39;49m\u001b[39m\"\u001b[39;49m))\n\u001b[1;32m     41\u001b[0m \u001b[39m# Use the dataset generator to generate the base set\u001b[39;00m\n\u001b[1;32m     42\u001b[0m dataset_base_train, dataset_base_val, dataset_base_test \u001b[39m=\u001b[39m dataset_gen\u001b[39m.\u001b[39mget_base_sets_dataloaders(\n\u001b[1;32m     43\u001b[0m     config[\u001b[39m'\u001b[39m\u001b[39mtraining\u001b[39m\u001b[39m'\u001b[39m][\u001b[39m'\u001b[39m\u001b[39mbatch_size\u001b[39m\u001b[39m'\u001b[39m], config[\u001b[39m'\u001b[39m\u001b[39mtraining\u001b[39m\u001b[39m'\u001b[39m][\u001b[39m'\u001b[39m\u001b[39mnum_workers\u001b[39m\u001b[39m'\u001b[39m],\n\u001b[1;32m     44\u001b[0m     config[\u001b[39m'\u001b[39m\u001b[39mtraining\u001b[39m\u001b[39m'\u001b[39m][\u001b[39m'\u001b[39m\u001b[39mpin_memory\u001b[39m\u001b[39m'\u001b[39m], config[\u001b[39m'\u001b[39m\u001b[39mtraining\u001b[39m\u001b[39m'\u001b[39m][\u001b[39m'\u001b[39m\u001b[39mdrop_last\u001b[39m\u001b[39m'\u001b[39m], \n\u001b[1;32m     45\u001b[0m     shuffle\u001b[39m=\u001b[39m\u001b[39mTrue\u001b[39;00m\n\u001b[1;32m     46\u001b[0m )\n",
      "File \u001b[0;32m~/.pyenv/versions/3.11.4/envs/env-FSOD_CenterNet/lib/python3.11/site-packages/torch/nn/modules/module.py:2041\u001b[0m, in \u001b[0;36mModule.load_state_dict\u001b[0;34m(self, state_dict, strict)\u001b[0m\n\u001b[1;32m   2036\u001b[0m         error_msgs\u001b[39m.\u001b[39minsert(\n\u001b[1;32m   2037\u001b[0m             \u001b[39m0\u001b[39m, \u001b[39m'\u001b[39m\u001b[39mMissing key(s) in state_dict: \u001b[39m\u001b[39m{}\u001b[39;00m\u001b[39m. \u001b[39m\u001b[39m'\u001b[39m\u001b[39m.\u001b[39mformat(\n\u001b[1;32m   2038\u001b[0m                 \u001b[39m'\u001b[39m\u001b[39m, \u001b[39m\u001b[39m'\u001b[39m\u001b[39m.\u001b[39mjoin(\u001b[39m'\u001b[39m\u001b[39m\"\u001b[39m\u001b[39m{}\u001b[39;00m\u001b[39m\"\u001b[39m\u001b[39m'\u001b[39m\u001b[39m.\u001b[39mformat(k) \u001b[39mfor\u001b[39;00m k \u001b[39min\u001b[39;00m missing_keys)))\n\u001b[1;32m   2040\u001b[0m \u001b[39mif\u001b[39;00m \u001b[39mlen\u001b[39m(error_msgs) \u001b[39m>\u001b[39m \u001b[39m0\u001b[39m:\n\u001b[0;32m-> 2041\u001b[0m     \u001b[39mraise\u001b[39;00m \u001b[39mRuntimeError\u001b[39;00m(\u001b[39m'\u001b[39m\u001b[39mError(s) in loading state_dict for \u001b[39m\u001b[39m{}\u001b[39;00m\u001b[39m:\u001b[39m\u001b[39m\\n\u001b[39;00m\u001b[39m\\t\u001b[39;00m\u001b[39m{}\u001b[39;00m\u001b[39m'\u001b[39m\u001b[39m.\u001b[39mformat(\n\u001b[1;32m   2042\u001b[0m                        \u001b[39mself\u001b[39m\u001b[39m.\u001b[39m\u001b[39m__class__\u001b[39m\u001b[39m.\u001b[39m\u001b[39m__name__\u001b[39m, \u001b[39m\"\u001b[39m\u001b[39m\\n\u001b[39;00m\u001b[39m\\t\u001b[39;00m\u001b[39m\"\u001b[39m\u001b[39m.\u001b[39mjoin(error_msgs)))\n\u001b[1;32m   2043\u001b[0m \u001b[39mreturn\u001b[39;00m _IncompatibleKeys(missing_keys, unexpected_keys)\n",
      "\u001b[0;31mRuntimeError\u001b[0m: Error(s) in loading state_dict for Model:\n\tMissing key(s) in state_dict: \"head_regressor.conv3.weight\", \"head_regressor.conv3.bias\", \"head_regressor.conv4.weight\", \"head_regressor.conv4.bias\", \"head_base_heatmap.conv2.weight\", \"head_base_heatmap.conv2.bias\", \"head_base_heatmap.conv3.weight\", \"head_base_heatmap.conv3.bias\". \n\tsize mismatch for head_regressor.conv2.weight: copying a param with shape torch.Size([4, 64, 1, 1]) from checkpoint, the shape in current model is torch.Size([64, 64, 3, 3]).\n\tsize mismatch for head_regressor.conv2.bias: copying a param with shape torch.Size([4]) from checkpoint, the shape in current model is torch.Size([64])."
     ]
    }
   ],
   "source": [
    "import os\n",
    "import pickle\n",
    "\n",
    "import torch as T\n",
    "import yaml\n",
    "from tqdm import tqdm\n",
    "from icecream import ic\n",
    "\n",
    "import sys\n",
    "\n",
    "sys.path.append('/Users/marcelloceresini/github/FSOD_CenterNet/src')\n",
    "from data_pipeline import DatasetsGenerator\n",
    "from model import Model\n",
    "from evaluation import Evaluate\n",
    "\n",
    "\n",
    "def load_settings(settings_path: str):\n",
    "    with open(settings_path, 'r') as f:\n",
    "        return yaml.safe_load(f)\n",
    "    \n",
    "settings = '../settings/model_testing_debug_check.yaml'\n",
    "    \n",
    "config = load_settings(settings)\n",
    "\n",
    "os.makedirs(config['training']['save_training_info_dir'], exist_ok=True)\n",
    "\n",
    "debug_mode = config['debug']['debug_mode_active']\n",
    "device = config['device']\n",
    "\n",
    "# Dataset generator. Only one of these has to be instantiated. It always returns\n",
    "dataset_gen = DatasetsGenerator(config)\n",
    "\n",
    "if config['evaluation']['base']:\n",
    "\n",
    "    # Instantiate the model (only the base part)\n",
    "    model = Model(config, n_base_classes=len(dataset_gen.train_base.cats))\n",
    "\n",
    "    model = model.to(device)\n",
    "    model.load_state_dict(T.load('../../data/weights/from_server/best_model_fix_stoic.pt', map_location=\"cpu\"))\n",
    "\n",
    "    # Use the dataset generator to generate the base set\n",
    "    dataset_base_train, dataset_base_val, dataset_base_test = dataset_gen.get_base_sets_dataloaders(\n",
    "        config['training']['batch_size'], config['training']['num_workers'],\n",
    "        config['training']['pin_memory'], config['training']['drop_last'], \n",
    "        shuffle=True\n",
    "    )\n",
    "\n",
    "    print(\"Before Evaluate\")\n",
    "\n",
    "    metrics_test = Evaluate(\n",
    "                model, \n",
    "                dataset_base_test, \n",
    "                prefix=\"test/\",\n",
    "                device=device,\n",
    "                config=config\n",
    "            )(is_novel=False)\n",
    "    \n",
    "    print(\"After Evaluate\")\n",
    "\n",
    "    with open(os.path.join(config['training']['save_training_info_dir'], \n",
    "                           config['training']['base_stats_save_name']), 'wb') as f:\n",
    "        pickle.dump(metrics_test, f)\n",
    "\n",
    "else:\n",
    "    raise NotImplementedError(\"Novel evaluation not implemented yet\")\n"
   ]
  },
  {
   "cell_type": "code",
   "execution_count": null,
   "metadata": {},
   "outputs": [],
   "source": [
    "ic(metrics_test)"
   ]
  },
  {
   "cell_type": "code",
   "execution_count": null,
   "metadata": {},
   "outputs": [],
   "source": []
  }
 ],
 "metadata": {
  "kernelspec": {
   "display_name": "env-FSOD_CenterNet",
   "language": "python",
   "name": "python3"
  },
  "language_info": {
   "codemirror_mode": {
    "name": "ipython",
    "version": 3
   },
   "file_extension": ".py",
   "mimetype": "text/x-python",
   "name": "python",
   "nbconvert_exporter": "python",
   "pygments_lexer": "ipython3",
   "version": "3.11.4"
  },
  "orig_nbformat": 4
 },
 "nbformat": 4,
 "nbformat_minor": 2
}
