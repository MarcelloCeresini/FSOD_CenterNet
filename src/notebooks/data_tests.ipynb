{
 "cells": [
  {
   "cell_type": "code",
   "execution_count": 1,
   "metadata": {},
   "outputs": [],
   "source": [
    "import os\n",
    "import random\n",
    "import matplotlib.pyplot as plt\n",
    "import numpy as np\n",
    "import pandas as pd\n",
    "from pycocotools.coco import COCO"
   ]
  },
  {
   "attachments": {},
   "cell_type": "markdown",
   "metadata": {},
   "source": [
    "Links for the dataset:\n",
    "- Full challenge and explanation: [https://github.com/visipedia/inat_comp/tree/master/2017](https://github.com/visipedia/inat_comp/tree/master/2017)\n",
    "- Train and Validation images (186 GB): [https://ml-inat-competition-datasets.s3.amazonaws.com/2017/train_val_images.tar.gz](https://ml-inat-competition-datasets.s3.amazonaws.com/2017/train_val_images.tar.gz)\n",
    "- Training bounding box annotations (22 MB): [https://ml-inat-competition-datasets.s3.amazonaws.com/2017/train_2017_bboxes.zip](https://ml-inat-competition-datasets.s3.amazonaws.com/2017/train_2017_bboxes.zip)\n",
    "- Validation bounding box annotations (3 MB): [https://ml-inat-competition-datasets.s3.amazonaws.com/2017/val_2017_bboxes.zip](https://ml-inat-competition-datasets.s3.amazonaws.com/2017/val_2017_bboxes.zip)"
   ]
  },
  {
   "cell_type": "code",
   "execution_count": 2,
   "metadata": {},
   "outputs": [
    {
     "name": "stdout",
     "output_type": "stream",
     "text": [
      "loading annotations into memory...\n",
      "Done (t=1.56s)\n",
      "creating index...\n",
      "index created!\n"
     ]
    }
   ],
   "source": [
    "base_path = os.path.join('..', '..')\n",
    "annotation_file = os.path.join(base_path, 'data', 'train_2017_bboxes.json')\n",
    "coco_annotation = COCO(annotation_file)"
   ]
  },
  {
   "cell_type": "code",
   "execution_count": 3,
   "metadata": {},
   "outputs": [
    {
     "data": {
      "text/plain": [
       "(5089, 1916, 4616)"
      ]
     },
     "execution_count": 3,
     "metadata": {},
     "output_type": "execute_result"
    }
   ],
   "source": [
    "# Category IDs\n",
    "cat_ids = coco_annotation.getCatIds()\n",
    "len(cat_ids), cat_ids[0], cat_ids[-1]"
   ]
  },
  {
   "attachments": {},
   "cell_type": "markdown",
   "metadata": {},
   "source": [
    "The training set contains 5089 non-consecutive classes."
   ]
  },
  {
   "cell_type": "code",
   "execution_count": 4,
   "metadata": {},
   "outputs": [
    {
     "data": {
      "text/plain": [
       "(['Nicrophorus tomentosus',\n",
       "  'Halyomorpha halys',\n",
       "  'Betula lenta',\n",
       "  'Hericium erinaceus',\n",
       "  'Harpaphe haydeniana'],\n",
       " ['Insecta', 'Insecta', 'Plantae', 'Fungi', 'Animalia'])"
      ]
     },
     "execution_count": 4,
     "metadata": {},
     "output_type": "execute_result"
    }
   ],
   "source": [
    "# Category names\n",
    "cats = coco_annotation.loadCats(cat_ids)\n",
    "cat_names = [cat[\"name\"] for cat in cats]\n",
    "cat_supercat = [cat['supercategory'] for cat in cats]\n",
    "cat_names[:5], cat_supercat[:5]"
   ]
  },
  {
   "attachments": {},
   "cell_type": "markdown",
   "metadata": {},
   "source": [
    "Each category is an animal or plant species, with families of species as supercategories."
   ]
  },
  {
   "cell_type": "code",
   "execution_count": 5,
   "metadata": {},
   "outputs": [
    {
     "data": {
      "text/plain": [
       "186166"
      ]
     },
     "execution_count": 5,
     "metadata": {},
     "output_type": "execute_result"
    }
   ],
   "source": [
    "# Pick one image from a specific category (lumbricus terrestris)\n",
    "img_ids = coco_annotation.getImgIds(catIds=[random.choice(cat_ids)])\n",
    "rand_img_id = random.choice(img_ids)\n",
    "rand_img_id"
   ]
  },
  {
   "cell_type": "code",
   "execution_count": 6,
   "metadata": {},
   "outputs": [
    {
     "name": "stdout",
     "output_type": "stream",
     "text": [
      "{'license': '3', 'file_name': 'train_val_images/Aves/Tringa nebularia/f30760dbbc51ea3579fa5871640df057.jpg', 'rights_holder': 'Ry Beaver', 'height': 533, 'width': 800, 'id': 186166}\n"
     ]
    }
   ],
   "source": [
    "# Image path and other metadata\n",
    "img_info = coco_annotation.loadImgs([rand_img_id])[0]\n",
    "img_file_name = img_info[\"file_name\"]\n",
    "print(img_info)"
   ]
  },
  {
   "cell_type": "code",
   "execution_count": 7,
   "metadata": {},
   "outputs": [
    {
     "data": {
      "text/plain": [
       "[{'area': 754.0,\n",
       "  'iscrowd': 0,\n",
       "  'image_id': 186166,\n",
       "  'bbox': [361, 213, 52, 29],\n",
       "  'category_id': 2558,\n",
       "  'id': 132913}]"
      ]
     },
     "execution_count": 7,
     "metadata": {},
     "output_type": "execute_result"
    }
   ],
   "source": [
    "# Get all the annotations for the specified image.\n",
    "ann_ids = coco_annotation.getAnnIds(imgIds=[rand_img_id], iscrowd=None)\n",
    "anns = coco_annotation.loadAnns(ann_ids)\n",
    "anns"
   ]
  },
  {
   "attachments": {},
   "cell_type": "markdown",
   "metadata": {},
   "source": [
    "Note about annotations: \n",
    "- The `area` field of the annotations is an approximation (half of the area of the bbox), since segmentation masks were not collected.\n",
    "- `iscrowd` is hard coded to 0 for all annotations, although it is possible that a box is around a crowd of instances (such as barnacles or mussels).\n",
    "- For images with multiple box annotations there is no guarantee that all instances actually belong to the same category even though they are labeled as being the same category, although the boxed instances will belong to the same super category. Due to this problem, the validation set is restricted to images with single instances so that we can be confident the category label is correct for the given box."
   ]
  },
  {
   "cell_type": "code",
   "execution_count": 8,
   "metadata": {},
   "outputs": [],
   "source": [
    "# Distribution of annotations per class\n",
    "distrib = {}\n",
    "for cat in cat_ids:\n",
    "    cat_img_ids = coco_annotation.getImgIds(catIds=[cat])\n",
    "    if len(cat_img_ids) > 0:\n",
    "        ann_ids = coco_annotation.getAnnIds(imgIds=cat_img_ids)\n",
    "        distrib[cat] = len(ann_ids)\n",
    "    else:\n",
    "        distrib[cat] = 0"
   ]
  },
  {
   "cell_type": "code",
   "execution_count": 9,
   "metadata": {},
   "outputs": [
    {
     "data": {
      "text/plain": [
       "[<matplotlib.lines.Line2D at 0x7ff61eecabd0>]"
      ]
     },
     "execution_count": 9,
     "metadata": {},
     "output_type": "execute_result"
    },
    {
     "data": {
      "image/png": "[encoded data removed]",
      "text/plain": [
       "<Figure size 640x480 with 1 Axes>"
      ]
     },
     "metadata": {},
     "output_type": "display_data"
    }
   ],
   "source": [
    "plt.plot(range(len(distrib)), sorted(distrib.values(), reverse=True))"
   ]
  },
  {
   "cell_type": "code",
   "execution_count": 10,
   "metadata": {},
   "outputs": [
    {
     "data": {
      "text/plain": [
       "(8370, 0, 97.49734721949302)"
      ]
     },
     "execution_count": 10,
     "metadata": {},
     "output_type": "execute_result"
    }
   ],
   "source": [
    "max(distrib.values()), min(distrib.values()), np.mean(list(distrib.values()))"
   ]
  },
  {
   "attachments": {},
   "cell_type": "markdown",
   "metadata": {},
   "source": [
    "On average, classes have 97.49 instances, with a maximum of 8370 and a minimum of 0."
   ]
  },
  {
   "cell_type": "code",
   "execution_count": 11,
   "metadata": {},
   "outputs": [
    {
     "data": {
      "text/plain": [
       "0.6850035038542397"
      ]
     },
     "execution_count": 11,
     "metadata": {},
     "output_type": "execute_result"
    }
   ],
   "source": [
    "distrib_df = pd.DataFrame.from_dict(distrib, orient='index', columns=['count']).sort_values(by='count', ascending=False)\n",
    "len(distrib_df['count'][np.logical_and(distrib_df['count'] > 0, distrib_df['count'] < 100)]) / \\\n",
    "    len(distrib_df['count'][distrib_df['count'] > 0])"
   ]
  },
  {
   "attachments": {},
   "cell_type": "markdown",
   "metadata": {},
   "source": [
    "Among the classes that have at least one instance, 68.5% have less than 100 instances."
   ]
  },
  {
   "cell_type": "code",
   "execution_count": 12,
   "metadata": {},
   "outputs": [
    {
     "data": {
      "text/plain": [
       "2235"
      ]
     },
     "execution_count": 12,
     "metadata": {},
     "output_type": "execute_result"
    }
   ],
   "source": [
    "len(distrib_df['count'][distrib_df['count'] == 0])"
   ]
  },
  {
   "attachments": {},
   "cell_type": "markdown",
   "metadata": {},
   "source": [
    "There are 2235 classes (43.91%) with no annotations."
   ]
  },
  {
   "attachments": {},
   "cell_type": "markdown",
   "metadata": {},
   "source": [
    "---\n",
    "\n",
    "Validation distribution"
   ]
  },
  {
   "cell_type": "code",
   "execution_count": 14,
   "metadata": {},
   "outputs": [
    {
     "name": "stdout",
     "output_type": "stream",
     "text": [
      "loading annotations into memory...\n",
      "Done (t=0.14s)\n",
      "creating index...\n",
      "index created!\n"
     ]
    }
   ],
   "source": [
    "val_annotation_file = os.path.join(base_path, 'data', 'val_2017_bboxes.json')\n",
    "val_coco_annotation = COCO(val_annotation_file)\n",
    "val_cat_ids = val_coco_annotation.getCatIds()\n",
    "val_distrib = {}\n",
    "for val_cat in val_cat_ids:\n",
    "    val_cat_img_ids = val_coco_annotation.getImgIds(catIds=[val_cat])\n",
    "    if len(val_cat_img_ids) > 0:\n",
    "        val_ann_ids = val_coco_annotation.getAnnIds(imgIds=val_cat_img_ids)\n",
    "        val_distrib[val_cat] = len(val_ann_ids)\n",
    "    else:\n",
    "        val_distrib[val_cat] = 0"
   ]
  },
  {
   "cell_type": "code",
   "execution_count": 17,
   "metadata": {},
   "outputs": [
    {
     "data": {
      "text/plain": [
       "[<matplotlib.lines.Line2D at 0x7ff5f0192950>]"
      ]
     },
     "execution_count": 17,
     "metadata": {},
     "output_type": "execute_result"
    },
    {
     "data": {
      "image/png": "[encoded data removed]",
      "text/plain": [
       "<Figure size 640x480 with 1 Axes>"
      ]
     },
     "metadata": {},
     "output_type": "display_data"
    }
   ],
   "source": [
    "plt.plot(range(len(val_distrib)), sorted(val_distrib.values(), reverse=True))"
   ]
  },
  {
   "cell_type": "code",
   "execution_count": 22,
   "metadata": {},
   "outputs": [
    {
     "data": {
      "text/plain": [
       "(42, 0, 9.576734132442523)"
      ]
     },
     "execution_count": 22,
     "metadata": {},
     "output_type": "execute_result"
    }
   ],
   "source": [
    "max(val_distrib.values()), min(val_distrib.values()), np.mean(list(val_distrib.values()))"
   ]
  },
  {
   "attachments": {},
   "cell_type": "markdown",
   "metadata": {},
   "source": [
    "The validation distribution contains less images in general (9.576 on average)"
   ]
  },
  {
   "cell_type": "code",
   "execution_count": 43,
   "metadata": {},
   "outputs": [],
   "source": [
    "val_distrib_df = pd.DataFrame.from_dict(val_distrib, orient='index', columns=['count']).sort_values(by='count', ascending=False)"
   ]
  },
  {
   "cell_type": "code",
   "execution_count": 62,
   "metadata": {},
   "outputs": [
    {
     "data": {
      "text/plain": [
       "2849"
      ]
     },
     "execution_count": 62,
     "metadata": {},
     "output_type": "execute_result"
    }
   ],
   "source": [
    "len(np.array(val_distrib_df[val_distrib_df['count'] > 0].index))"
   ]
  },
  {
   "cell_type": "code",
   "execution_count": 61,
   "metadata": {},
   "outputs": [
    {
     "data": {
      "text/plain": [
       "2849"
      ]
     },
     "execution_count": 61,
     "metadata": {},
     "output_type": "execute_result"
    }
   ],
   "source": [
    "len(np.intersect1d(np.array(distrib_df[distrib_df['count'] > 0].index), np.array(val_distrib_df[val_distrib_df['count'] > 0].index)))"
   ]
  },
  {
   "attachments": {},
   "cell_type": "markdown",
   "metadata": {},
   "source": [
    "The validation set has annoptations for 2849 classes, all coming from the same subset of classes that are also present in the training set."
   ]
  },
  {
   "cell_type": "code",
   "execution_count": 63,
   "metadata": {},
   "outputs": [
    {
     "data": {
      "text/plain": [
       "5084"
      ]
     },
     "execution_count": 63,
     "metadata": {},
     "output_type": "execute_result"
    }
   ],
   "source": [
    "len(np.union1d(np.array(distrib_df[distrib_df['count'] == 0].index), np.array(val_distrib_df[val_distrib_df['count'] > 0].index)))"
   ]
  },
  {
   "attachments": {},
   "cell_type": "markdown",
   "metadata": {},
   "source": [
    "Indeed, the classes of the validation set are almost all different from those that are not present in the training set. Together they almost fill the 5089 classes of the dataset: which means that 5 classes are not even present in the validation set."
   ]
  },
  {
   "cell_type": "code",
   "execution_count": 58,
   "metadata": {},
   "outputs": [
    {
     "data": {
      "text/plain": [
       "array([ 513,  562, 1760, 3216, 4470])"
      ]
     },
     "execution_count": 58,
     "metadata": {},
     "output_type": "execute_result"
    }
   ],
   "source": [
    "np.intersect1d(np.array(distrib_df[distrib_df['count'] > 0].index), np.array(val_distrib_df[val_distrib_df['count'] == 0].index))"
   ]
  },
  {
   "attachments": {},
   "cell_type": "markdown",
   "metadata": {},
   "source": [
    "Furthermore, the training set has 5 classes that are exclusive and are not present in the validation set."
   ]
  }
 ],
 "metadata": {
  "kernelspec": {
   "display_name": "ml4cv",
   "language": "python",
   "name": "python3"
  },
  "language_info": {
   "codemirror_mode": {
    "name": "ipython",
    "version": 3
   },
   "file_extension": ".py",
   "mimetype": "text/x-python",
   "name": "python",
   "nbconvert_exporter": "python",
   "pygments_lexer": "ipython3",
   "version": "3.11.4"
  },
  "orig_nbformat": 4
 },
 "nbformat": 4,
 "nbformat_minor": 2
}
