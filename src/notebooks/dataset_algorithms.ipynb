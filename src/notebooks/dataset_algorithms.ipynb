{
 "cells": [
  {
   "cell_type": "code",
   "execution_count": 1,
   "metadata": {},
   "outputs": [],
   "source": [
    "import json\n",
    "import os\n",
    "import random\n",
    "import time\n",
    "from typing import Any, Dict, List, Optional\n",
    "\n",
    "import numpy as np\n",
    "from pycocotools.coco import COCO\n",
    "from tqdm import tqdm"
   ]
  },
  {
   "cell_type": "code",
   "execution_count": 2,
   "metadata": {},
   "outputs": [
    {
     "name": "stdout",
     "output_type": "stream",
     "text": [
      "loading annotations into memory...\n",
      "Done (t=1.91s)\n",
      "creating index...\n",
      "index created!\n"
     ]
    }
   ],
   "source": [
    "root_path = os.path.join('..', '..')\n",
    "full_annotation_file = os.path.join(root_path, 'data', 'full_2017_bboxes.json')\n",
    "novel_classes_file = os.path.join(root_path, 'data', 'novel_class_ids.json')\n",
    "\n",
    "coco_dset = COCO(full_annotation_file)\n",
    "with open(novel_classes_file, 'r') as f:\n",
    "    novel_classes = json.load(f)['novel_cat_ids']"
   ]
  },
  {
   "cell_type": "markdown",
   "metadata": {},
   "source": [
    "Check that the function \"getImgIds\" with catIds argument returns all images containing annotation of a class."
   ]
  },
  {
   "cell_type": "code",
   "execution_count": 3,
   "metadata": {},
   "outputs": [
    {
     "name": "stderr",
     "output_type": "stream",
     "text": [
      "100%|██████████| 346/346 [00:09<00:00, 36.07it/s]\n"
     ]
    }
   ],
   "source": [
    "for novel_class in tqdm(novel_classes):\n",
    "    len_1 = len(coco_dset.getImgIds(catIds=[novel_class]))\n",
    "    len_2 = len(set([x['image_id'] for x in coco_dset.anns.values() if x['category_id'] == novel_class]))\n",
    "    if len_1 != len_2:\n",
    "        print(len_1, len_2)"
   ]
  },
  {
   "cell_type": "markdown",
   "metadata": {},
   "source": [
    "Check if for some of the classes there are images containing boxes of other novel classes."
   ]
  },
  {
   "cell_type": "code",
   "execution_count": 4,
   "metadata": {},
   "outputs": [
    {
     "name": "stderr",
     "output_type": "stream",
     "text": [
      "100%|██████████| 346/346 [00:00<00:00, 5218.77it/s]\n"
     ]
    }
   ],
   "source": [
    "for novel_class in tqdm(novel_classes):\n",
    "    # Get all images with at least an annotation for this class\n",
    "    class_imgs = coco_dset.getImgIds(catIds=[novel_class])\n",
    "    # For each of the images...\n",
    "    for img in class_imgs:\n",
    "        # Load all of its annotation\n",
    "        anns_for_img = coco_dset.getAnnIds(imgIds=[img])\n",
    "        # For each annotation found in the image...\n",
    "        for ann in coco_dset.loadAnns(anns_for_img):\n",
    "            # Check if the category ID of that annotation is different from that of the considered novel class\n",
    "            if ann['category_id'] != novel_class:\n",
    "                print(f\"Image {img} does not exclusively contain class {class_imgs}, but also class {ann['category_id']}\")"
   ]
  },
  {
   "cell_type": "markdown",
   "metadata": {},
   "source": [
    "All novel classes apparently have well separated images. Now we proceed with the algorithm."
   ]
  },
  {
   "cell_type": "code",
   "execution_count": 5,
   "metadata": {},
   "outputs": [],
   "source": [
    "def create_annotation_sets_with_K_shots(coco_dset: COCO, novel_classes: List[int], \n",
    "                                        K: int, do_not_sample: Optional[Dict[int, List[int]]] = None,\n",
    "                                        timeout: int = 10):\n",
    "    '''\n",
    "    Samples exactly `K` annotations for each of the `novel_classes` of the input `coco_dset`.\n",
    "    If a sampled annotation is part of an image that also contains annotations of another novel class,\n",
    "    the other novel class is populated with annotations from the same image, in order to fully capture\n",
    "    all annotations in an image. Given the random nature of the algorithm, a timeout can be provided.\n",
    "\n",
    "    Args:\n",
    "    - `coco_dset`: The COCO object for the dataset managing annotations and image IDs\n",
    "    - `noval_classes`: A list of novel class IDs to sample for\n",
    "    - `K`: The number of annotations to sample for each class\n",
    "    - `do_not_sample` (Optional, Default None): A dict containing previously-sampled annotations \n",
    "        for each class, to avoid sampling them a second time if the algorithm is used more than once \n",
    "        (e.g. for a validation or a test set)\n",
    "    - `timeout` (Optional, Default 10): Number of seconds to let the algorithm run\n",
    "    '''\n",
    "    assert K > 0, \"K must be positive\"\n",
    "    st_t = time.time()\n",
    "\n",
    "    # Collect images that should be excluded from sampling\n",
    "    if do_not_sample is not None:\n",
    "        do_not_sample_images = {}\n",
    "        for k in do_not_sample:\n",
    "            do_not_sample_images[k] = [x['image_id'] for x in do_not_sample[k]]\n",
    "    \n",
    "    # Consistency loop\n",
    "    stop_flag = False\n",
    "    while not stop_flag:\n",
    "        \n",
    "        # Step 1): randomize priority of novel classes\n",
    "        novel_classes = random.sample(novel_classes, len(novel_classes))\n",
    "        novel_classes_set = set(novel_classes)\n",
    "        \n",
    "        # Create new set of annotations\n",
    "        annots = {class_id: [] for class_id in novel_classes}\n",
    "        \n",
    "        # Step 2): Constructively add images to our annotation pool\n",
    "        for class_id in tqdm(novel_classes):\n",
    "            \n",
    "            # Get the images containing annotations of that class and randomize them\n",
    "            class_image_ids = coco_dset.getImgIds(catIds=[class_id])\n",
    "            random.shuffle(class_image_ids)\n",
    "            \n",
    "            # Remove from the set of image ids those that we should not sample (if any)\n",
    "            if do_not_sample is not None:\n",
    "                class_image_ids = list(set(class_image_ids) - set(do_not_sample_images[class_id]))\n",
    "            \n",
    "            # Start choosing images to fill the class annotations\n",
    "            for img_id in class_image_ids:\n",
    "                \n",
    "                # Get annotations for that image\n",
    "                img_annots = coco_dset.getAnnIds(imgIds=[img_id])\n",
    "                img_annots = coco_dset.loadAnns(img_annots)\n",
    "                # Separate annotations into \"annotations of that class\" and \n",
    "                # \"annotations of another class\"\n",
    "                class_annots = []; non_class_annots = []\n",
    "                for ann in img_annots:\n",
    "                    # Note: we only consider novel classes here. A base class in the same image\n",
    "                    # is fine.\n",
    "                    if    ann['category_id'] not in novel_classes_set: continue\n",
    "                    elif  ann['category_id'] == class_id: class_annots.append(ann)\n",
    "                    else: non_class_annots.append(ann)\n",
    "                \n",
    "                # Checks:\n",
    "                \n",
    "                # 1) The annots could be added to the class list without overflowing K annotations\n",
    "                # (otherwise choose another image)\n",
    "                if len(annots[class_id]) + len(class_annots) > K:\n",
    "                    continue\n",
    "                \n",
    "                # 2) The annotations of other classes in the image don't overflow their respective classes\n",
    "                # (otherwise choose another image)\n",
    "                ncann_elems = {}\n",
    "                for ncann in non_class_annots:\n",
    "                    if ncann['category_id'] not in ncann_elems:\n",
    "                        ncann_elems[ncann['category_id']] = 1\n",
    "                    else:\n",
    "                        ncann_elems[ncann['category_id']] += 1\n",
    "                if len(ncann_elems) > 0 and any([len(annots[k]) + ncann_elems[k] > K for k in ncann_elems]):\n",
    "                    continue\n",
    "                \n",
    "                # If all went well, simply add the annotations into their respective classes\n",
    "                for ann in img_annots:\n",
    "                    annots[ann['category_id']].append(ann)\n",
    "                \n",
    "                # Break the cycle early if we have reached the correct amount of annotations for this class\n",
    "                if len(annots[class_id]) == K:\n",
    "                    break\n",
    "            \n",
    "            # Check that the class actually has K annotations and no other class has more than K,\n",
    "            # otherwise restart from scratch\n",
    "            if len(annots[class_id]) != K or any([len(annots[x]) > K for x in annots]):\n",
    "                break\n",
    "            # If all classes have exactly K annotations, stop!\n",
    "            if all([len(annots[x]) == K for x in annots]):\n",
    "                stop_flag = True\n",
    "        \n",
    "        end_t = time.time()\n",
    "        if end_t - st_t > timeout:\n",
    "            raise TimeoutError(\"Annotation Sampling function was not able to complete sampling in time. Try lowering K.\")\n",
    "        if not stop_flag:\n",
    "            print(\"[ANNOTATION SAMPLING] Restarting...\")\n",
    "   \n",
    "    return annots\n"
   ]
  },
  {
   "cell_type": "code",
   "execution_count": 22,
   "metadata": {},
   "outputs": [
    {
     "name": "stderr",
     "output_type": "stream",
     "text": [
      "100%|██████████| 346/346 [00:00<00:00, 9840.51it/s]\n"
     ]
    }
   ],
   "source": [
    "train_annots = create_annotation_sets_with_K_shots(coco_dset, novel_classes, K=10)"
   ]
  },
  {
   "cell_type": "code",
   "execution_count": 23,
   "metadata": {},
   "outputs": [
    {
     "name": "stderr",
     "output_type": "stream",
     "text": [
      "100%|██████████| 346/346 [00:00<00:00, 8258.15it/s]\n"
     ]
    }
   ],
   "source": [
    "val_annots = create_annotation_sets_with_K_shots(coco_dset, novel_classes, K=20, do_not_sample=train_annots)"
   ]
  },
  {
   "cell_type": "code",
   "execution_count": 24,
   "metadata": {},
   "outputs": [
    {
     "name": "stderr",
     "output_type": "stream",
     "text": [
      "100%|██████████| 346/346 [00:00<00:00, 7372.75it/s]\n"
     ]
    }
   ],
   "source": [
    "test_annots = create_annotation_sets_with_K_shots(coco_dset, novel_classes, K=20, do_not_sample={\n",
    "    k: train_annots[k] + val_annots[k]\n",
    "    for k in train_annots\n",
    "})"
   ]
  },
  {
   "cell_type": "markdown",
   "metadata": {},
   "source": [
    "Let's check to make sure that there are no overlaps between the sets"
   ]
  },
  {
   "cell_type": "code",
   "execution_count": 25,
   "metadata": {},
   "outputs": [],
   "source": [
    "def log_err(t1, t2):\n",
    "    return f\"A {t1} annotation was also found in the {t2} set\"\n",
    "\n",
    "for class_id in train_annots:\n",
    "    for ann in train_annots[class_id]:\n",
    "        if ann in val_annots[class_id]:\n",
    "            print(log_err(\"train\", \"val\"))\n",
    "        if ann in test_annots[class_id]:\n",
    "            print(log_err(\"train\", \"test\"))\n",
    "\n",
    "for class_id in val_annots:\n",
    "    for ann in val_annots[class_id]:\n",
    "        if ann in train_annots[class_id]:\n",
    "            print(log_err(\"val\", \"train\"))\n",
    "        if ann in test_annots[class_id]:\n",
    "            print(log_err(\"val\", \"test\"))\n",
    "\n",
    "for class_id in test_annots:\n",
    "    for ann in test_annots[class_id]:\n",
    "        if ann in val_annots[class_id]:\n",
    "            print(log_err(\"test\", \"val\"))\n",
    "        if ann in train_annots[class_id]:\n",
    "            print(log_err(\"test\", \"train\"))"
   ]
  }
 ],
 "metadata": {
  "kernelspec": {
   "display_name": "ml4cv",
   "language": "python",
   "name": "python3"
  },
  "language_info": {
   "codemirror_mode": {
    "name": "ipython",
    "version": 3
   },
   "file_extension": ".py",
   "mimetype": "text/x-python",
   "name": "python",
   "nbconvert_exporter": "python",
   "pygments_lexer": "ipython3",
   "version": "3.11.4"
  },
  "orig_nbformat": 4
 },
 "nbformat": 4,
 "nbformat_minor": 2
}
