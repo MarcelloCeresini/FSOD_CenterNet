{
 "cells": [
  {
   "cell_type": "code",
   "execution_count": 1,
   "metadata": {},
   "outputs": [],
   "source": [
    "import argparse\n",
    "import os\n",
    "import pickle\n",
    "\n",
    "import torch as T\n",
    "import yaml\n",
    "from torch.optim import Adam\n",
    "\n",
    "from data_pipeline import DatasetsGenerator\n",
    "from evaluation import Evaluate\n",
    "from model import Model\n",
    "from training import set_model_to_train_novel, train_loop\n",
    "\n",
    "def load_settings(settings_path: str):\n",
    "    with open(settings_path, 'r') as f:\n",
    "        return yaml.safe_load(f)"
   ]
  },
  {
   "cell_type": "code",
   "execution_count": 2,
   "metadata": {},
   "outputs": [],
   "source": [
    "settings = 'settings/model_testing.yaml'\n",
    "\n",
    "conf = load_settings(settings)\n",
    "\n",
    "if os.path.exists(conf['training']['save_base_weights_dir']) and conf[\"train_base\"]:\n",
    "    raise ValueError(\"Cannot overwrite weights\")\n",
    "\n",
    "debug_mode = conf['debug']['debug_mode_active']\n",
    "device = conf['device']\n",
    "\n",
    "K = conf['data']['K']\n",
    "val_K = conf['data']['val_K']\n",
    "test_K = conf['data']['test_K']\n",
    "n_repeats_novel_train = conf['training']['repeat_novel_training']\n",
    "\n",
    "if isinstance(K, int): K = [K]\n",
    "if isinstance(val_K, int): val_K = [val_K]\n",
    "if isinstance(test_K, int): test_K = [test_K]"
   ]
  },
  {
   "cell_type": "code",
   "execution_count": 3,
   "metadata": {},
   "outputs": [
    {
     "name": "stdout",
     "output_type": "stream",
     "text": [
      "loading annotations into memory...\n",
      "Done (t=0.05s)\n",
      "creating index...\n",
      "index created!\n",
      "loading annotations into memory...\n",
      "Done (t=0.07s)\n",
      "creating index...\n",
      "index created!\n",
      "loading annotations into memory...\n",
      "Done (t=0.01s)\n",
      "creating index...\n",
      "index created!\n",
      "loading annotations into memory...\n",
      "Done (t=1.62s)\n",
      "creating index...\n",
      "index created!\n"
     ]
    }
   ],
   "source": [
    "# Dataset generator. Only one of these has to be instantiated. It always returns\n",
    "dataset_gen = DatasetsGenerator(\n",
    "    annotations_path = conf['paths']['annotations_path'],\n",
    "    images_dir = conf['paths']['images_dir'],\n",
    "    novel_class_ids_path = conf['paths']['novel_classes_ids_path'],\n",
    "    train_set_path = conf['paths']['train_base_annotations_path'],\n",
    "    val_set_path = conf['paths']['val_base_annotations_path'],\n",
    "    test_set_path = conf['paths']['test_base_annotations_path'],\n",
    "    use_fixed_novel_sets = conf['data']['use_fixed_sets'],\n",
    "    novel_train_set_path = conf['paths']['train_novel_annotations_path'],\n",
    "    novel_val_set_path = conf['paths']['val_novel_annotations_path'],\n",
    "    novel_test_set_path = conf['paths']['test_novel_annotations_path']\n",
    ")"
   ]
  },
  {
   "cell_type": "code",
   "execution_count": 4,
   "metadata": {},
   "outputs": [],
   "source": [
    "base_train, base_val, base_test = dataset_gen.get_base_sets()"
   ]
  },
  {
   "cell_type": "code",
   "execution_count": 5,
   "metadata": {},
   "outputs": [
    {
     "data": {
      "text/plain": [
       "2013"
      ]
     },
     "execution_count": 5,
     "metadata": {},
     "output_type": "execute_result"
    }
   ],
   "source": [
    "len(base_val)"
   ]
  },
  {
   "cell_type": "code",
   "execution_count": 6,
   "metadata": {},
   "outputs": [
    {
     "data": {
      "text/plain": [
       "<data_pipeline.transform.TransformTraining at 0x7fa70a386410>"
      ]
     },
     "execution_count": 6,
     "metadata": {},
     "output_type": "execute_result"
    }
   ],
   "source": [
    "base_val.transform"
   ]
  },
  {
   "cell_type": "code",
   "execution_count": 22,
   "metadata": {},
   "outputs": [
    {
     "name": "stdout",
     "output_type": "stream",
     "text": [
      "torch.Size([3, 512, 512])\n",
      "torch.Size([4, 128, 128])\n",
      "torch.Size([240, 128, 128])\n",
      "torch.Size([0, 128, 128])\n",
      "[{'center_point': (281.5226586102719, 257.58024691358025), 'size': (156.2296072507553, 418.7654320987654), 'category_id': 26}]\n",
      "\n",
      "torch.Size([3, 512, 512])\n",
      "torch.Size([4, 128, 128])\n",
      "torch.Size([240, 128, 128])\n",
      "torch.Size([0, 128, 128])\n",
      "[{'center_point': (205.24521739130435, 247.70626349892007), 'size': (326.7895652173913, 484.35421166306696), 'category_id': 26}]\n",
      "\n",
      "torch.Size([3, 512, 512])\n",
      "torch.Size([4, 128, 128])\n",
      "torch.Size([240, 128, 128])\n",
      "torch.Size([0, 128, 128])\n",
      "[{'center_point': (165.67375886524823, 268.97465886939574), 'size': (442.09929078014187, 438.14424951267057), 'category_id': 26}]\n",
      "\n",
      "torch.Size([3, 512, 512])\n",
      "torch.Size([4, 128, 128])\n",
      "torch.Size([240, 128, 128])\n",
      "torch.Size([0, 128, 128])\n",
      "[{'center_point': (278.8973607038123, 138.0523560209424), 'size': (246.99120234604106, 299.3368237347295), 'category_id': 26}]\n",
      "\n",
      "torch.Size([3, 512, 512])\n",
      "torch.Size([4, 128, 128])\n",
      "torch.Size([240, 128, 128])\n",
      "torch.Size([0, 128, 128])\n",
      "[{'center_point': (286.3957783641161, 300.76502732240436), 'size': (108.07387862796834, 131.49726775956285), 'category_id': 26}]\n",
      "\n",
      "torch.Size([3, 512, 512])\n",
      "torch.Size([4, 128, 128])\n",
      "torch.Size([240, 128, 128])\n",
      "torch.Size([0, 128, 128])\n",
      "[{'center_point': (278.8826815642458, 274.6520947176685), 'size': (155.88826815642457, 515.7304189435337), 'category_id': 26}]\n",
      "\n"
     ]
    }
   ],
   "source": [
    "x = 5\n",
    "for i, k in enumerate(base_val):\n",
    "    sample, trans_landmarks, original = k\n",
    "    img = sample[0]\n",
    "    regress_label, heatmap_base, heatmap_novel = sample[1]\n",
    "    print(sample[0].shape)\n",
    "    print(regress_label.shape)\n",
    "    print(heatmap_base.shape)\n",
    "    print(heatmap_novel.shape)\n",
    "    print(trans_landmarks)\n",
    "    print()\n",
    "\n",
    "    if i == x:\n",
    "        break"
   ]
  },
  {
   "cell_type": "code",
   "execution_count": 28,
   "metadata": {},
   "outputs": [
    {
     "data": {
      "text/plain": [
       "40"
      ]
     },
     "execution_count": 28,
     "metadata": {},
     "output_type": "execute_result"
    }
   ],
   "source": [
    "list(base_val.coco.cats).index(26)"
   ]
  },
  {
   "cell_type": "code",
   "execution_count": 32,
   "metadata": {},
   "outputs": [
    {
     "data": {
      "text/plain": [
       "tensor([[0.9753, 0.9821, 0.9871, 0.9900, 0.9910, 0.9900, 0.9871, 0.9821, 0.9753],\n",
       "        [0.9802, 0.9871, 0.9920, 0.9950, 0.9960, 0.9950, 0.9920, 0.9871, 0.9802],\n",
       "        [0.9831, 0.9900, 0.9950, 0.9980, 0.9990, 0.9980, 0.9950, 0.9900, 0.9831],\n",
       "        [0.9841, 0.9910, 0.9960, 0.9990, 1.0000, 0.9990, 0.9960, 0.9910, 0.9841],\n",
       "        [0.9831, 0.9900, 0.9950, 0.9980, 0.9990, 0.9980, 0.9950, 0.9900, 0.9831],\n",
       "        [0.9802, 0.9871, 0.9920, 0.9950, 0.9960, 0.9950, 0.9920, 0.9871, 0.9802],\n",
       "        [0.9753, 0.9821, 0.9871, 0.9900, 0.9910, 0.9900, 0.9871, 0.9821, 0.9753],\n",
       "        [0.9684, 0.9753, 0.9802, 0.9831, 0.9841, 0.9831, 0.9802, 0.9753, 0.9684],\n",
       "        [0.9597, 0.9665, 0.9713, 0.9743, 0.9753, 0.9743, 0.9713, 0.9665, 0.9597]])"
      ]
     },
     "execution_count": 32,
     "metadata": {},
     "output_type": "execute_result"
    }
   ],
   "source": [
    "heatmap_base[40, 65:74, 65:74]"
   ]
  },
  {
   "cell_type": "code",
   "execution_count": 39,
   "metadata": {},
   "outputs": [
    {
     "data": {
      "text/plain": [
       "tensor([[[  0.0000,   0.0000,   0.0000,   0.0000,   0.0000,   0.0000,   0.0000,\n",
       "            0.0000,   0.0000],\n",
       "         [  0.0000,   0.0000,   0.0000,   0.0000,   0.0000,   0.0000,   0.0000,\n",
       "            0.0000,   0.0000],\n",
       "         [  0.0000,   0.0000,   0.0000,   0.0000,   0.0000,   0.0000,   0.0000,\n",
       "            0.0000,   0.0000],\n",
       "         [  0.0000,   0.0000,   0.0000,   0.0000,   0.0000,   0.0000,   0.0000,\n",
       "            0.0000,   0.0000],\n",
       "         [  0.0000,   0.0000,   0.0000, 155.8883,   0.0000,   0.0000,   0.0000,\n",
       "            0.0000,   0.0000],\n",
       "         [  0.0000,   0.0000,   0.0000,   0.0000,   0.0000,   0.0000,   0.0000,\n",
       "            0.0000,   0.0000],\n",
       "         [  0.0000,   0.0000,   0.0000,   0.0000,   0.0000,   0.0000,   0.0000,\n",
       "            0.0000,   0.0000],\n",
       "         [  0.0000,   0.0000,   0.0000,   0.0000,   0.0000,   0.0000,   0.0000,\n",
       "            0.0000,   0.0000],\n",
       "         [  0.0000,   0.0000,   0.0000,   0.0000,   0.0000,   0.0000,   0.0000,\n",
       "            0.0000,   0.0000]],\n",
       "\n",
       "        [[  0.0000,   0.0000,   0.0000,   0.0000,   0.0000,   0.0000,   0.0000,\n",
       "            0.0000,   0.0000],\n",
       "         [  0.0000,   0.0000,   0.0000,   0.0000,   0.0000,   0.0000,   0.0000,\n",
       "            0.0000,   0.0000],\n",
       "         [  0.0000,   0.0000,   0.0000,   0.0000,   0.0000,   0.0000,   0.0000,\n",
       "            0.0000,   0.0000],\n",
       "         [  0.0000,   0.0000,   0.0000,   0.0000,   0.0000,   0.0000,   0.0000,\n",
       "            0.0000,   0.0000],\n",
       "         [  0.0000,   0.0000,   0.0000, 515.7304,   0.0000,   0.0000,   0.0000,\n",
       "            0.0000,   0.0000],\n",
       "         [  0.0000,   0.0000,   0.0000,   0.0000,   0.0000,   0.0000,   0.0000,\n",
       "            0.0000,   0.0000],\n",
       "         [  0.0000,   0.0000,   0.0000,   0.0000,   0.0000,   0.0000,   0.0000,\n",
       "            0.0000,   0.0000],\n",
       "         [  0.0000,   0.0000,   0.0000,   0.0000,   0.0000,   0.0000,   0.0000,\n",
       "            0.0000,   0.0000],\n",
       "         [  0.0000,   0.0000,   0.0000,   0.0000,   0.0000,   0.0000,   0.0000,\n",
       "            0.0000,   0.0000]],\n",
       "\n",
       "        [[  0.0000,   0.0000,   0.0000,   0.0000,   0.0000,   0.0000,   0.0000,\n",
       "            0.0000,   0.0000],\n",
       "         [  0.0000,   0.0000,   0.0000,   0.0000,   0.0000,   0.0000,   0.0000,\n",
       "            0.0000,   0.0000],\n",
       "         [  0.0000,   0.0000,   0.0000,   0.0000,   0.0000,   0.0000,   0.0000,\n",
       "            0.0000,   0.0000],\n",
       "         [  0.0000,   0.0000,   0.0000,   0.0000,   0.0000,   0.0000,   0.0000,\n",
       "            0.0000,   0.0000],\n",
       "         [  0.0000,   0.0000,   0.0000,   0.7207,   0.0000,   0.0000,   0.0000,\n",
       "            0.0000,   0.0000],\n",
       "         [  0.0000,   0.0000,   0.0000,   0.0000,   0.0000,   0.0000,   0.0000,\n",
       "            0.0000,   0.0000],\n",
       "         [  0.0000,   0.0000,   0.0000,   0.0000,   0.0000,   0.0000,   0.0000,\n",
       "            0.0000,   0.0000],\n",
       "         [  0.0000,   0.0000,   0.0000,   0.0000,   0.0000,   0.0000,   0.0000,\n",
       "            0.0000,   0.0000],\n",
       "         [  0.0000,   0.0000,   0.0000,   0.0000,   0.0000,   0.0000,   0.0000,\n",
       "            0.0000,   0.0000]],\n",
       "\n",
       "        [[  0.0000,   0.0000,   0.0000,   0.0000,   0.0000,   0.0000,   0.0000,\n",
       "            0.0000,   0.0000],\n",
       "         [  0.0000,   0.0000,   0.0000,   0.0000,   0.0000,   0.0000,   0.0000,\n",
       "            0.0000,   0.0000],\n",
       "         [  0.0000,   0.0000,   0.0000,   0.0000,   0.0000,   0.0000,   0.0000,\n",
       "            0.0000,   0.0000],\n",
       "         [  0.0000,   0.0000,   0.0000,   0.0000,   0.0000,   0.0000,   0.0000,\n",
       "            0.0000,   0.0000],\n",
       "         [  0.0000,   0.0000,   0.0000,   0.6630,   0.0000,   0.0000,   0.0000,\n",
       "            0.0000,   0.0000],\n",
       "         [  0.0000,   0.0000,   0.0000,   0.0000,   0.0000,   0.0000,   0.0000,\n",
       "            0.0000,   0.0000],\n",
       "         [  0.0000,   0.0000,   0.0000,   0.0000,   0.0000,   0.0000,   0.0000,\n",
       "            0.0000,   0.0000],\n",
       "         [  0.0000,   0.0000,   0.0000,   0.0000,   0.0000,   0.0000,   0.0000,\n",
       "            0.0000,   0.0000],\n",
       "         [  0.0000,   0.0000,   0.0000,   0.0000,   0.0000,   0.0000,   0.0000,\n",
       "            0.0000,   0.0000]]])"
      ]
     },
     "execution_count": 39,
     "metadata": {},
     "output_type": "execute_result"
    }
   ],
   "source": [
    "regress_label[:, 65:74, 65:74]"
   ]
  },
  {
   "cell_type": "code",
   "execution_count": null,
   "metadata": {},
   "outputs": [],
   "source": [
    "for i, k in enumerate(base_test):\n",
    "    sample, trans_landmarks, original = k\n",
    "    print(sample.shape)\n",
    "    print(trans_landmarks)\n",
    "    break"
   ]
  }
 ],
 "metadata": {
  "kernelspec": {
   "display_name": "env-FSOD_CenterNet",
   "language": "python",
   "name": "python3"
  },
  "language_info": {
   "codemirror_mode": {
    "name": "ipython",
    "version": 3
   },
   "file_extension": ".py",
   "mimetype": "text/x-python",
   "name": "python",
   "nbconvert_exporter": "python",
   "pygments_lexer": "ipython3",
   "version": "3.11.4"
  },
  "orig_nbformat": 4
 },
 "nbformat": 4,
 "nbformat_minor": 2
}
