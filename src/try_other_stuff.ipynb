{
 "cells": [
  {
   "cell_type": "code",
   "execution_count": 2,
   "metadata": {},
   "outputs": [
    {
     "name": "stdout",
     "output_type": "stream",
     "text": [
      "loading annotations into memory...\n",
      "Done (t=0.07s)\n",
      "creating index...\n",
      "index created!\n",
      "loading annotations into memory...\n",
      "Done (t=0.01s)\n",
      "creating index...\n",
      "index created!\n",
      "loading annotations into memory...\n",
      "Done (t=0.01s)\n",
      "creating index...\n",
      "index created!\n",
      "loading annotations into memory...\n",
      "Done (t=2.59s)\n",
      "creating index...\n",
      "index created!\n"
     ]
    }
   ],
   "source": [
    "import train\n",
    "from data_pipeline import DatasetsGenerator\n",
    "\n",
    "conf = train.load_settings(\"./settings/model_testing.yaml\")\n",
    "\n",
    "dataset_gen = DatasetsGenerator(\n",
    "    annotations_path = conf['paths']['annotations_path'],\n",
    "    images_dir = conf['paths']['images_dir'],\n",
    "    novel_class_ids_path = conf['paths']['novel_classes_ids_path'],\n",
    "    train_set_path = conf['paths']['train_base_annotations_path'],\n",
    "    val_set_path = conf['paths']['val_base_annotations_path'],\n",
    "    test_set_path = conf['paths']['test_base_annotations_path'],\n",
    "    use_fixed_novel_sets = conf['data']['use_fixed_sets'],\n",
    "    novel_train_set_path = conf['paths']['train_novel_annotations_path'],\n",
    "    novel_val_set_path = conf['paths']['val_novel_annotations_path'],\n",
    "    novel_test_set_path = conf['paths']['test_novel_annotations_path']\n",
    ")"
   ]
  },
  {
   "cell_type": "code",
   "execution_count": 3,
   "metadata": {},
   "outputs": [],
   "source": [
    "dataset_base_train, dataset_base_val, dataset_base_test = dataset_gen.get_base_sets_dataloaders(\n",
    "                conf['training']['batch_size'], conf['training']['num_workers'],\n",
    "                conf['training']['pin_memory'], conf['training']['drop_last'], shuffle=True\n",
    "            )"
   ]
  },
  {
   "cell_type": "code",
   "execution_count": 4,
   "metadata": {},
   "outputs": [
    {
     "name": "stderr",
     "output_type": "stream",
     "text": [
      "  0%|          | 0/4238 [00:00<?, ?it/s]\n"
     ]
    },
    {
     "ename": "RuntimeError",
     "evalue": "Caught RuntimeError in DataLoader worker process 0.\nOriginal Traceback (most recent call last):\n  File \"/Users/marcelloceresini/.pyenv/versions/3.11.4/envs/env-FSOD_CenterNet/lib/python3.11/site-packages/torch/utils/data/_utils/worker.py\", line 308, in _worker_loop\n    data = fetcher.fetch(index)\n           ^^^^^^^^^^^^^^^^^^^^\n  File \"/Users/marcelloceresini/.pyenv/versions/3.11.4/envs/env-FSOD_CenterNet/lib/python3.11/site-packages/torch/utils/data/_utils/fetch.py\", line 51, in fetch\n    data = [self.dataset[idx] for idx in possibly_batched_index]\n           ^^^^^^^^^^^^^^^^^^^^^^^^^^^^^^^^^^^^^^^^^^^^^^^^^^^^^\n  File \"/Users/marcelloceresini/.pyenv/versions/3.11.4/envs/env-FSOD_CenterNet/lib/python3.11/site-packages/torch/utils/data/_utils/fetch.py\", line 51, in <listcomp>\n    data = [self.dataset[idx] for idx in possibly_batched_index]\n            ~~~~~~~~~~~~^^^^^\n  File \"/Users/marcelloceresini/github/FSOD_CenterNet/src/data_pipeline/__init__.py\", line 51, in __getitem__\n    image = read_image(img_name)\n            ^^^^^^^^^^^^^^^^^^^^\n  File \"/Users/marcelloceresini/.pyenv/versions/3.11.4/envs/env-FSOD_CenterNet/lib/python3.11/site-packages/torchvision/io/image.py\", line 258, in read_image\n    data = read_file(path)\n           ^^^^^^^^^^^^^^^\n  File \"/Users/marcelloceresini/.pyenv/versions/3.11.4/envs/env-FSOD_CenterNet/lib/python3.11/site-packages/torchvision/io/image.py\", line 52, in read_file\n    data = torch.ops.image.read_file(path)\n           ^^^^^^^^^^^^^^^^^^^^^^^^^^^^^^^\n  File \"/Users/marcelloceresini/.pyenv/versions/3.11.4/envs/env-FSOD_CenterNet/lib/python3.11/site-packages/torch/_ops.py\", line 502, in __call__\n    return self._op(*args, **kwargs or {})\n           ^^^^^^^^^^^^^^^^^^^^^^^^^^^^^^^\nRuntimeError: [Errno 2] No such file or directory: '../data/train_val_images/Reptilia/Uta stansburiana/ba2bda5a803e440704e2ff8a8537d445.jpg'\n",
     "output_type": "error",
     "traceback": [
      "\u001b[0;31m---------------------------------------------------------------------------\u001b[0m",
      "\u001b[0;31mRuntimeError\u001b[0m                              Traceback (most recent call last)",
      "Cell \u001b[0;32mIn[4], line 3\u001b[0m\n\u001b[1;32m      1\u001b[0m \u001b[39mfrom\u001b[39;00m \u001b[39mtqdm\u001b[39;00m \u001b[39mimport\u001b[39;00m tqdm\n\u001b[0;32m----> 3\u001b[0m \u001b[39mfor\u001b[39;00m i, (sample, transformed_landmarks, _) \u001b[39min\u001b[39;00m tqdm(\u001b[39menumerate\u001b[39m(dataset_base_train), total\u001b[39m=\u001b[39m\u001b[39mlen\u001b[39m(dataset_base_train)):\n\u001b[1;32m      4\u001b[0m     \u001b[39mprint\u001b[39m(i)\n\u001b[1;32m      5\u001b[0m     \u001b[39mbreak\u001b[39;00m\n",
      "File \u001b[0;32m~/.pyenv/versions/3.11.4/envs/env-FSOD_CenterNet/lib/python3.11/site-packages/tqdm/std.py:1178\u001b[0m, in \u001b[0;36mtqdm.__iter__\u001b[0;34m(self)\u001b[0m\n\u001b[1;32m   1175\u001b[0m time \u001b[39m=\u001b[39m \u001b[39mself\u001b[39m\u001b[39m.\u001b[39m_time\n\u001b[1;32m   1177\u001b[0m \u001b[39mtry\u001b[39;00m:\n\u001b[0;32m-> 1178\u001b[0m     \u001b[39mfor\u001b[39;00m obj \u001b[39min\u001b[39;00m iterable:\n\u001b[1;32m   1179\u001b[0m         \u001b[39myield\u001b[39;00m obj\n\u001b[1;32m   1180\u001b[0m         \u001b[39m# Update and possibly print the progressbar.\u001b[39;00m\n\u001b[1;32m   1181\u001b[0m         \u001b[39m# Note: does not call self.update(1) for speed optimisation.\u001b[39;00m\n",
      "File \u001b[0;32m~/.pyenv/versions/3.11.4/envs/env-FSOD_CenterNet/lib/python3.11/site-packages/torch/utils/data/dataloader.py:633\u001b[0m, in \u001b[0;36m_BaseDataLoaderIter.__next__\u001b[0;34m(self)\u001b[0m\n\u001b[1;32m    630\u001b[0m \u001b[39mif\u001b[39;00m \u001b[39mself\u001b[39m\u001b[39m.\u001b[39m_sampler_iter \u001b[39mis\u001b[39;00m \u001b[39mNone\u001b[39;00m:\n\u001b[1;32m    631\u001b[0m     \u001b[39m# TODO(https://github.com/pytorch/pytorch/issues/76750)\u001b[39;00m\n\u001b[1;32m    632\u001b[0m     \u001b[39mself\u001b[39m\u001b[39m.\u001b[39m_reset()  \u001b[39m# type: ignore[call-arg]\u001b[39;00m\n\u001b[0;32m--> 633\u001b[0m data \u001b[39m=\u001b[39m \u001b[39mself\u001b[39;49m\u001b[39m.\u001b[39;49m_next_data()\n\u001b[1;32m    634\u001b[0m \u001b[39mself\u001b[39m\u001b[39m.\u001b[39m_num_yielded \u001b[39m+\u001b[39m\u001b[39m=\u001b[39m \u001b[39m1\u001b[39m\n\u001b[1;32m    635\u001b[0m \u001b[39mif\u001b[39;00m \u001b[39mself\u001b[39m\u001b[39m.\u001b[39m_dataset_kind \u001b[39m==\u001b[39m _DatasetKind\u001b[39m.\u001b[39mIterable \u001b[39mand\u001b[39;00m \\\n\u001b[1;32m    636\u001b[0m         \u001b[39mself\u001b[39m\u001b[39m.\u001b[39m_IterableDataset_len_called \u001b[39mis\u001b[39;00m \u001b[39mnot\u001b[39;00m \u001b[39mNone\u001b[39;00m \u001b[39mand\u001b[39;00m \\\n\u001b[1;32m    637\u001b[0m         \u001b[39mself\u001b[39m\u001b[39m.\u001b[39m_num_yielded \u001b[39m>\u001b[39m \u001b[39mself\u001b[39m\u001b[39m.\u001b[39m_IterableDataset_len_called:\n",
      "File \u001b[0;32m~/.pyenv/versions/3.11.4/envs/env-FSOD_CenterNet/lib/python3.11/site-packages/torch/utils/data/dataloader.py:1345\u001b[0m, in \u001b[0;36m_MultiProcessingDataLoaderIter._next_data\u001b[0;34m(self)\u001b[0m\n\u001b[1;32m   1343\u001b[0m \u001b[39melse\u001b[39;00m:\n\u001b[1;32m   1344\u001b[0m     \u001b[39mdel\u001b[39;00m \u001b[39mself\u001b[39m\u001b[39m.\u001b[39m_task_info[idx]\n\u001b[0;32m-> 1345\u001b[0m     \u001b[39mreturn\u001b[39;00m \u001b[39mself\u001b[39;49m\u001b[39m.\u001b[39;49m_process_data(data)\n",
      "File \u001b[0;32m~/.pyenv/versions/3.11.4/envs/env-FSOD_CenterNet/lib/python3.11/site-packages/torch/utils/data/dataloader.py:1371\u001b[0m, in \u001b[0;36m_MultiProcessingDataLoaderIter._process_data\u001b[0;34m(self, data)\u001b[0m\n\u001b[1;32m   1369\u001b[0m \u001b[39mself\u001b[39m\u001b[39m.\u001b[39m_try_put_index()\n\u001b[1;32m   1370\u001b[0m \u001b[39mif\u001b[39;00m \u001b[39misinstance\u001b[39m(data, ExceptionWrapper):\n\u001b[0;32m-> 1371\u001b[0m     data\u001b[39m.\u001b[39;49mreraise()\n\u001b[1;32m   1372\u001b[0m \u001b[39mreturn\u001b[39;00m data\n",
      "File \u001b[0;32m~/.pyenv/versions/3.11.4/envs/env-FSOD_CenterNet/lib/python3.11/site-packages/torch/_utils.py:644\u001b[0m, in \u001b[0;36mExceptionWrapper.reraise\u001b[0;34m(self)\u001b[0m\n\u001b[1;32m    640\u001b[0m \u001b[39mexcept\u001b[39;00m \u001b[39mTypeError\u001b[39;00m:\n\u001b[1;32m    641\u001b[0m     \u001b[39m# If the exception takes multiple arguments, don't try to\u001b[39;00m\n\u001b[1;32m    642\u001b[0m     \u001b[39m# instantiate since we don't know how to\u001b[39;00m\n\u001b[1;32m    643\u001b[0m     \u001b[39mraise\u001b[39;00m \u001b[39mRuntimeError\u001b[39;00m(msg) \u001b[39mfrom\u001b[39;00m \u001b[39mNone\u001b[39;00m\n\u001b[0;32m--> 644\u001b[0m \u001b[39mraise\u001b[39;00m exception\n",
      "\u001b[0;31mRuntimeError\u001b[0m: Caught RuntimeError in DataLoader worker process 0.\nOriginal Traceback (most recent call last):\n  File \"/Users/marcelloceresini/.pyenv/versions/3.11.4/envs/env-FSOD_CenterNet/lib/python3.11/site-packages/torch/utils/data/_utils/worker.py\", line 308, in _worker_loop\n    data = fetcher.fetch(index)\n           ^^^^^^^^^^^^^^^^^^^^\n  File \"/Users/marcelloceresini/.pyenv/versions/3.11.4/envs/env-FSOD_CenterNet/lib/python3.11/site-packages/torch/utils/data/_utils/fetch.py\", line 51, in fetch\n    data = [self.dataset[idx] for idx in possibly_batched_index]\n           ^^^^^^^^^^^^^^^^^^^^^^^^^^^^^^^^^^^^^^^^^^^^^^^^^^^^^\n  File \"/Users/marcelloceresini/.pyenv/versions/3.11.4/envs/env-FSOD_CenterNet/lib/python3.11/site-packages/torch/utils/data/_utils/fetch.py\", line 51, in <listcomp>\n    data = [self.dataset[idx] for idx in possibly_batched_index]\n            ~~~~~~~~~~~~^^^^^\n  File \"/Users/marcelloceresini/github/FSOD_CenterNet/src/data_pipeline/__init__.py\", line 51, in __getitem__\n    image = read_image(img_name)\n            ^^^^^^^^^^^^^^^^^^^^\n  File \"/Users/marcelloceresini/.pyenv/versions/3.11.4/envs/env-FSOD_CenterNet/lib/python3.11/site-packages/torchvision/io/image.py\", line 258, in read_image\n    data = read_file(path)\n           ^^^^^^^^^^^^^^^\n  File \"/Users/marcelloceresini/.pyenv/versions/3.11.4/envs/env-FSOD_CenterNet/lib/python3.11/site-packages/torchvision/io/image.py\", line 52, in read_file\n    data = torch.ops.image.read_file(path)\n           ^^^^^^^^^^^^^^^^^^^^^^^^^^^^^^^\n  File \"/Users/marcelloceresini/.pyenv/versions/3.11.4/envs/env-FSOD_CenterNet/lib/python3.11/site-packages/torch/_ops.py\", line 502, in __call__\n    return self._op(*args, **kwargs or {})\n           ^^^^^^^^^^^^^^^^^^^^^^^^^^^^^^^\nRuntimeError: [Errno 2] No such file or directory: '../data/train_val_images/Reptilia/Uta stansburiana/ba2bda5a803e440704e2ff8a8537d445.jpg'\n"
     ]
    }
   ],
   "source": [
    "from tqdm import tqdm\n",
    "\n",
    "for i, (sample, transformed_landmarks, _) in tqdm(enumerate(dataset_base_train), total=len(dataset_base_train)):\n",
    "    print(i)\n",
    "    break"
   ]
  },
  {
   "cell_type": "code",
   "execution_count": null,
   "metadata": {},
   "outputs": [],
   "source": []
  }
 ],
 "metadata": {
  "kernelspec": {
   "display_name": "env-FSOD_CenterNet",
   "language": "python",
   "name": "python3"
  },
  "language_info": {
   "codemirror_mode": {
    "name": "ipython",
    "version": 3
   },
   "file_extension": ".py",
   "mimetype": "text/x-python",
   "name": "python",
   "nbconvert_exporter": "python",
   "pygments_lexer": "ipython3",
   "version": "3.11.4"
  },
  "orig_nbformat": 4
 },
 "nbformat": 4,
 "nbformat_minor": 2
}
