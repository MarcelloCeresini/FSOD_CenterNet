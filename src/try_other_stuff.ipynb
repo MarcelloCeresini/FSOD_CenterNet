{
 "cells": [
  {
   "cell_type": "code",
   "execution_count": 1,
   "metadata": {},
   "outputs": [],
   "source": [
    "dataset_base_train = get_data_loaders(annotations_path=conf.path_train_short, # TODO: change this path\n",
    "                                               images_dir=\"always_the_same_dir\", # TODO: change this path\n",
    "                                               transform=TransformTraining(),\n",
    "                                               batch_size=conf.train_batch_size,\n",
    "                                               num_workers=conf.num_workers,\n",
    "                                               pin_memory=conf.pin_memory,\n",
    "                                               drop_last=conf.drop_last,\n",
    "                                               shuffle=True)"
   ]
  },
  {
   "cell_type": "code",
   "execution_count": 4,
   "metadata": {},
   "outputs": [],
   "source": [
    "from config import Config\n",
    "conf = Config()"
   ]
  },
  {
   "cell_type": "code",
   "execution_count": 5,
   "metadata": {},
   "outputs": [
    {
     "data": {
      "text/plain": [
       "False"
      ]
     },
     "execution_count": 5,
     "metadata": {},
     "output_type": "execute_result"
    }
   ],
   "source": [
    "import os\n"
   ]
  }
 ],
 "metadata": {
  "kernelspec": {
   "display_name": "env-FSOD_CenterNet",
   "language": "python",
   "name": "python3"
  },
  "language_info": {
   "codemirror_mode": {
    "name": "ipython",
    "version": 3
   },
   "file_extension": ".py",
   "mimetype": "text/x-python",
   "name": "python",
   "nbconvert_exporter": "python",
   "pygments_lexer": "ipython3",
   "version": "3.11.4"
  },
  "orig_nbformat": 4
 },
 "nbformat": 4,
 "nbformat_minor": 2
}
